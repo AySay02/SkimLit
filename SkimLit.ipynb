{
  "nbformat": 4,
  "nbformat_minor": 0,
  "metadata": {
    "colab": {
      "provenance": [],
      "gpuType": "T4",
      "toc_visible": true,
      "authorship_tag": "ABX9TyPC4IwZg23dCuqCw2OOsLLw",
      "include_colab_link": true
    },
    "kernelspec": {
      "name": "python3",
      "display_name": "Python 3"
    },
    "language_info": {
      "name": "python"
    },
    "accelerator": "GPU"
  },
  "cells": [
    {
      "cell_type": "markdown",
      "metadata": {
        "id": "view-in-github",
        "colab_type": "text"
      },
      "source": [
        "<a href=\"https://colab.research.google.com/github/AySay02/SkimLit/blob/main/SkimLit.ipynb\" target=\"_parent\"><img src=\"https://colab.research.google.com/assets/colab-badge.svg\" alt=\"Open In Colab\"/></a>"
      ]
    },
    {
      "cell_type": "markdown",
      "source": [
        "# INTRODUCTION :-\n",
        "\n",
        "\n",
        "1.   Basically works on Many-to-One sequence problem.\n",
        "2.   Taking a sample dataset from PubMed of medical research papers.\n",
        "3.   Divides the abstract to - Obj, methods, res , conclusion sub sections.\n",
        "\n"
      ],
      "metadata": {
        "id": "Pf-rccl2JGn8"
      }
    },
    {
      "cell_type": "markdown",
      "source": [
        "# Getting DATA"
      ],
      "metadata": {
        "id": "yAJ2AO3miemJ"
      }
    },
    {
      "cell_type": "code",
      "execution_count": null,
      "metadata": {
        "id": "1qm8D3zpG3qX",
        "colab": {
          "base_uri": "https://localhost:8080/"
        },
        "outputId": "fc44272d-3bea-48c0-a52e-bdc6c131d987"
      },
      "outputs": [
        {
          "output_type": "stream",
          "name": "stdout",
          "text": [
            "Cloning into 'pubmed-rct'...\n",
            "remote: Enumerating objects: 33, done.\u001b[K\n",
            "remote: Counting objects: 100% (8/8), done.\u001b[K\n",
            "remote: Compressing objects: 100% (3/3), done.\u001b[K\n",
            "remote: Total 33 (delta 5), reused 5 (delta 5), pack-reused 25\u001b[K\n",
            "Unpacking objects: 100% (33/33), 177.08 MiB | 6.11 MiB/s, done.\n",
            "PubMed_200k_RCT\n",
            "PubMed_200k_RCT_numbers_replaced_with_at_sign\n",
            "PubMed_20k_RCT\n",
            "PubMed_20k_RCT_numbers_replaced_with_at_sign\n",
            "README.md\n"
          ]
        }
      ],
      "source": [
        "# Getting DATA\n",
        "# downloading pubmed 200k RCT data\n",
        "\n",
        "!git clone https://github.com/Franck-Dernoncourt/pubmed-rct.git\n",
        "!ls pubmed-rct"
      ]
    },
    {
      "cell_type": "code",
      "source": [
        "!ls pubmed-rct/PubMed_20k_RCT_numbers_replaced_with_at_sign/"
      ],
      "metadata": {
        "colab": {
          "base_uri": "https://localhost:8080/"
        },
        "id": "yJeIeKo2i-ku",
        "outputId": "67f1cf84-c1c3-49b0-c939-7fd90093b53d"
      },
      "execution_count": null,
      "outputs": [
        {
          "output_type": "stream",
          "name": "stdout",
          "text": [
            "dev.txt  test.txt  train.txt\n"
          ]
        }
      ]
    },
    {
      "cell_type": "code",
      "source": [
        "# Start experimenting with 20k dataset with nums replaced by @\n",
        "data_dir = \"/content/pubmed-rct/PubMed_20k_RCT_numbers_replaced_with_at_sign/\""
      ],
      "metadata": {
        "id": "sHaOAqypjQzD"
      },
      "execution_count": null,
      "outputs": []
    },
    {
      "cell_type": "code",
      "source": [
        "import os\n",
        "filenames = [data_dir + filename for filename in os.listdir(data_dir)]\n",
        "filenames"
      ],
      "metadata": {
        "colab": {
          "base_uri": "https://localhost:8080/"
        },
        "id": "vy7NQXFXkGB8",
        "outputId": "4c38b0b4-92da-4f79-9e8d-c53bf42ef6c9"
      },
      "execution_count": null,
      "outputs": [
        {
          "output_type": "execute_result",
          "data": {
            "text/plain": [
              "['/content/pubmed-rct/PubMed_20k_RCT_numbers_replaced_with_at_sign/test.txt',\n",
              " '/content/pubmed-rct/PubMed_20k_RCT_numbers_replaced_with_at_sign/dev.txt',\n",
              " '/content/pubmed-rct/PubMed_20k_RCT_numbers_replaced_with_at_sign/train.txt']"
            ]
          },
          "metadata": {},
          "execution_count": 3
        }
      ]
    },
    {
      "cell_type": "code",
      "source": [
        "# getting helper functions\n",
        "\n",
        "!wget https://raw.githubusercontent.com/mrdbourke/tensorflow-deep-learning/main/extras/helper_functions.py\n",
        "\n",
        "from helper_functions import calculate_results"
      ],
      "metadata": {
        "colab": {
          "base_uri": "https://localhost:8080/"
        },
        "id": "TrWkYBeZ2mD1",
        "outputId": "842eb91e-404c-42b4-e499-9a2c39642512"
      },
      "execution_count": null,
      "outputs": [
        {
          "output_type": "stream",
          "name": "stdout",
          "text": [
            "--2023-06-09 07:27:29--  https://raw.githubusercontent.com/mrdbourke/tensorflow-deep-learning/main/extras/helper_functions.py\n",
            "Resolving raw.githubusercontent.com (raw.githubusercontent.com)... 185.199.108.133, 185.199.109.133, 185.199.110.133, ...\n",
            "Connecting to raw.githubusercontent.com (raw.githubusercontent.com)|185.199.108.133|:443... connected.\n",
            "HTTP request sent, awaiting response... 200 OK\n",
            "Length: 10246 (10K) [text/plain]\n",
            "Saving to: ‘helper_functions.py’\n",
            "\n",
            "helper_functions.py 100%[===================>]  10.01K  --.-KB/s    in 0s      \n",
            "\n",
            "2023-06-09 07:27:29 (93.1 MB/s) - ‘helper_functions.py’ saved [10246/10246]\n",
            "\n"
          ]
        }
      ]
    },
    {
      "cell_type": "markdown",
      "source": [
        "# DATA Preprocessing and visualisation"
      ],
      "metadata": {
        "id": "-hJ-R_fukYPl"
      }
    },
    {
      "cell_type": "code",
      "source": [
        "# function to read the lines of doc\n",
        "\n",
        "def get_lines(filename):\n",
        "  \"\"\"\n",
        "  Reads filename and returns lines of text as list\n",
        "  Args : file path\n",
        "  \"\"\"\n",
        "\n",
        "  with open(filename , \"r\") as f:\n",
        "    return f.readlines()"
      ],
      "metadata": {
        "id": "d1S2gXyPkRhL"
      },
      "execution_count": null,
      "outputs": []
    },
    {
      "cell_type": "code",
      "source": [
        "train_lines = get_lines(data_dir + \"train.txt\")\n",
        "train_lines[:15]"
      ],
      "metadata": {
        "colab": {
          "base_uri": "https://localhost:8080/"
        },
        "id": "PZ5DIQcIlEbm",
        "outputId": "96ac06b3-c54f-4c72-e5e3-467d9a236963"
      },
      "execution_count": null,
      "outputs": [
        {
          "output_type": "execute_result",
          "data": {
            "text/plain": [
              "['###24293578\\n',\n",
              " 'OBJECTIVE\\tTo investigate the efficacy of @ weeks of daily low-dose oral prednisolone in improving pain , mobility , and systemic low-grade inflammation in the short term and whether the effect would be sustained at @ weeks in older adults with moderate to severe knee osteoarthritis ( OA ) .\\n',\n",
              " 'METHODS\\tA total of @ patients with primary knee OA were randomized @:@ ; @ received @ mg/day of prednisolone and @ received placebo for @ weeks .\\n',\n",
              " 'METHODS\\tOutcome measures included pain reduction and improvement in function scores and systemic inflammation markers .\\n',\n",
              " 'METHODS\\tPain was assessed using the visual analog pain scale ( @-@ mm ) .\\n',\n",
              " 'METHODS\\tSecondary outcome measures included the Western Ontario and McMaster Universities Osteoarthritis Index scores , patient global assessment ( PGA ) of the severity of knee OA , and @-min walk distance ( @MWD ) .\\n',\n",
              " 'METHODS\\tSerum levels of interleukin @ ( IL-@ ) , IL-@ , tumor necrosis factor ( TNF ) - , and high-sensitivity C-reactive protein ( hsCRP ) were measured .\\n',\n",
              " 'RESULTS\\tThere was a clinically relevant reduction in the intervention group compared to the placebo group for knee pain , physical function , PGA , and @MWD at @ weeks .\\n',\n",
              " 'RESULTS\\tThe mean difference between treatment arms ( @ % CI ) was @ ( @-@ @ ) , p < @ ; @ ( @-@ @ ) , p < @ ; @ ( @-@ @ ) , p < @ ; and @ ( @-@ @ ) , p < @ , respectively .\\n',\n",
              " 'RESULTS\\tFurther , there was a clinically relevant reduction in the serum levels of IL-@ , IL-@ , TNF - , and hsCRP at @ weeks in the intervention group when compared to the placebo group .\\n',\n",
              " 'RESULTS\\tThese differences remained significant at @ weeks .\\n',\n",
              " 'RESULTS\\tThe Outcome Measures in Rheumatology Clinical Trials-Osteoarthritis Research Society International responder rate was @ % in the intervention group and @ % in the placebo group ( p < @ ) .\\n',\n",
              " 'CONCLUSIONS\\tLow-dose oral prednisolone had both a short-term and a longer sustained effect resulting in less knee pain , better physical function , and attenuation of systemic inflammation in older patients with knee OA ( ClinicalTrials.gov identifier NCT@ ) .\\n',\n",
              " '\\n',\n",
              " '###24854809\\n']"
            ]
          },
          "metadata": {},
          "execution_count": 6
        }
      ]
    },
    {
      "cell_type": "code",
      "source": [
        "len(train_lines)"
      ],
      "metadata": {
        "colab": {
          "base_uri": "https://localhost:8080/"
        },
        "id": "sjrMGhuClOwQ",
        "outputId": "6efb9c05-e218-4e92-8957-0f20cd30cc0a"
      },
      "execution_count": null,
      "outputs": [
        {
          "output_type": "execute_result",
          "data": {
            "text/plain": [
              "210040"
            ]
          },
          "metadata": {},
          "execution_count": 9
        }
      ]
    },
    {
      "cell_type": "markdown",
      "source": [
        "**We want our data to look like :**\\\n",
        "> List of dictionaries\\\n",
        "> [{'line_number : 0,\n",
        "    'target : 'BACKGROUND',\n",
        "    'text' : 'sentence of that line',\n",
        "    'total_lines': num}]"
      ],
      "metadata": {
        "id": "ctcpef0SmXSg"
      }
    },
    {
      "cell_type": "code",
      "source": [
        "# Making a function to structure our data for modelling\n",
        "\n",
        "def preprocess_text(filename):\n",
        "  \"\"\"\n",
        "  Returns a list of dictionaries of abstract of line data\n",
        "  arg : file path\n",
        "  \"\"\"\n",
        "\n",
        "  input_lines = get_lines(filename)\n",
        "  abstract_lines = \"\" # create empty abstract\n",
        "  abstract_samples = []\n",
        "\n",
        "  for line in input_lines:\n",
        "    if line.startswith(\"###\"):  # new abstract is starting\n",
        "      abstract_id = line\n",
        "      abstract_lines = \"\" # reset the abstract line for new abstract\n",
        "    elif line.isspace():  # check to see if new line\n",
        "      abstract_line_split = abstract_lines.splitlines()   # split abstract into separate lines\n",
        "\n",
        "      for abstract_line_num , abstract_line in enumerate(abstract_line_split):\n",
        "        line_data = {}\n",
        "        target_text_split = abstract_line.split(\"\\t\")     # separates label from text\n",
        "        line_data[\"target\"] = target_text_split[0]  # get label\n",
        "        line_data[\"text\"] = target_text_split[1].lower()\n",
        "        line_data[\"line_number\"] = abstract_line_num\n",
        "        line_data[\"total lines\"] = len(abstract_line_split)-1 # total lines in target abstract\n",
        "        abstract_samples.append(line_data)\n",
        "\n",
        "    else: # for labelled lines\n",
        "      abstract_lines += line\n",
        "\n",
        "  return abstract_samples\n"
      ],
      "metadata": {
        "id": "v2w5iavOmRqZ"
      },
      "execution_count": null,
      "outputs": []
    },
    {
      "cell_type": "code",
      "source": [
        "train_samples = preprocess_text(data_dir + \"train.txt\")\n",
        "val_samples = preprocess_text(data_dir + \"dev.txt\")\n",
        "test_samples = preprocess_text(data_dir + \"test.txt\")\n",
        "\n",
        "len(train_samples) , len(val_samples) , len(test_samples)"
      ],
      "metadata": {
        "colab": {
          "base_uri": "https://localhost:8080/"
        },
        "id": "R3A65AB4q9NG",
        "outputId": "a57f9e3b-c022-487d-eeff-0ccc2b74234c"
      },
      "execution_count": null,
      "outputs": [
        {
          "output_type": "execute_result",
          "data": {
            "text/plain": [
              "(180040, 30212, 30135)"
            ]
          },
          "metadata": {},
          "execution_count": 8
        }
      ]
    },
    {
      "cell_type": "code",
      "source": [
        "train_samples[:10]"
      ],
      "metadata": {
        "colab": {
          "base_uri": "https://localhost:8080/"
        },
        "id": "W2v-9UZkrVV0",
        "outputId": "82c991fc-0197-4cc2-934e-987e40465248"
      },
      "execution_count": null,
      "outputs": [
        {
          "output_type": "execute_result",
          "data": {
            "text/plain": [
              "[{'target': 'OBJECTIVE',\n",
              "  'text': 'to investigate the efficacy of @ weeks of daily low-dose oral prednisolone in improving pain , mobility , and systemic low-grade inflammation in the short term and whether the effect would be sustained at @ weeks in older adults with moderate to severe knee osteoarthritis ( oa ) .',\n",
              "  'line_number': 0,\n",
              "  'total lines': 11},\n",
              " {'target': 'METHODS',\n",
              "  'text': 'a total of @ patients with primary knee oa were randomized @:@ ; @ received @ mg/day of prednisolone and @ received placebo for @ weeks .',\n",
              "  'line_number': 1,\n",
              "  'total lines': 11},\n",
              " {'target': 'METHODS',\n",
              "  'text': 'outcome measures included pain reduction and improvement in function scores and systemic inflammation markers .',\n",
              "  'line_number': 2,\n",
              "  'total lines': 11},\n",
              " {'target': 'METHODS',\n",
              "  'text': 'pain was assessed using the visual analog pain scale ( @-@ mm ) .',\n",
              "  'line_number': 3,\n",
              "  'total lines': 11},\n",
              " {'target': 'METHODS',\n",
              "  'text': 'secondary outcome measures included the western ontario and mcmaster universities osteoarthritis index scores , patient global assessment ( pga ) of the severity of knee oa , and @-min walk distance ( @mwd ) .',\n",
              "  'line_number': 4,\n",
              "  'total lines': 11},\n",
              " {'target': 'METHODS',\n",
              "  'text': 'serum levels of interleukin @ ( il-@ ) , il-@ , tumor necrosis factor ( tnf ) - , and high-sensitivity c-reactive protein ( hscrp ) were measured .',\n",
              "  'line_number': 5,\n",
              "  'total lines': 11},\n",
              " {'target': 'RESULTS',\n",
              "  'text': 'there was a clinically relevant reduction in the intervention group compared to the placebo group for knee pain , physical function , pga , and @mwd at @ weeks .',\n",
              "  'line_number': 6,\n",
              "  'total lines': 11},\n",
              " {'target': 'RESULTS',\n",
              "  'text': 'the mean difference between treatment arms ( @ % ci ) was @ ( @-@ @ ) , p < @ ; @ ( @-@ @ ) , p < @ ; @ ( @-@ @ ) , p < @ ; and @ ( @-@ @ ) , p < @ , respectively .',\n",
              "  'line_number': 7,\n",
              "  'total lines': 11},\n",
              " {'target': 'RESULTS',\n",
              "  'text': 'further , there was a clinically relevant reduction in the serum levels of il-@ , il-@ , tnf - , and hscrp at @ weeks in the intervention group when compared to the placebo group .',\n",
              "  'line_number': 8,\n",
              "  'total lines': 11},\n",
              " {'target': 'RESULTS',\n",
              "  'text': 'these differences remained significant at @ weeks .',\n",
              "  'line_number': 9,\n",
              "  'total lines': 11}]"
            ]
          },
          "metadata": {},
          "execution_count": 11
        }
      ]
    },
    {
      "cell_type": "code",
      "source": [
        "import pandas as pd\n",
        "\n",
        "train_df = pd.DataFrame(train_samples)\n",
        "val_df = pd.DataFrame(val_samples)\n",
        "test_df = pd.DataFrame(test_samples)\n",
        "\n",
        "train_df.head(12)"
      ],
      "metadata": {
        "colab": {
          "base_uri": "https://localhost:8080/",
          "height": 626
        },
        "id": "jqAJfikQrYZ6",
        "outputId": "526a0821-ea1c-4e88-d8bc-79f600b04eab"
      },
      "execution_count": null,
      "outputs": [
        {
          "output_type": "execute_result",
          "data": {
            "text/plain": [
              "         target                                               text  \\\n",
              "0     OBJECTIVE  to investigate the efficacy of @ weeks of dail...   \n",
              "1       METHODS  a total of @ patients with primary knee oa wer...   \n",
              "2       METHODS  outcome measures included pain reduction and i...   \n",
              "3       METHODS  pain was assessed using the visual analog pain...   \n",
              "4       METHODS  secondary outcome measures included the wester...   \n",
              "5       METHODS  serum levels of interleukin @ ( il-@ ) , il-@ ...   \n",
              "6       RESULTS  there was a clinically relevant reduction in t...   \n",
              "7       RESULTS  the mean difference between treatment arms ( @...   \n",
              "8       RESULTS  further , there was a clinically relevant redu...   \n",
              "9       RESULTS  these differences remained significant at @ we...   \n",
              "10      RESULTS  the outcome measures in rheumatology clinical ...   \n",
              "11  CONCLUSIONS  low-dose oral prednisolone had both a short-te...   \n",
              "\n",
              "    line_number  total lines  \n",
              "0             0           11  \n",
              "1             1           11  \n",
              "2             2           11  \n",
              "3             3           11  \n",
              "4             4           11  \n",
              "5             5           11  \n",
              "6             6           11  \n",
              "7             7           11  \n",
              "8             8           11  \n",
              "9             9           11  \n",
              "10           10           11  \n",
              "11           11           11  "
            ],
            "text/html": [
              "\n",
              "  <div id=\"df-a221c443-8a0b-4392-af6f-d2c7005b4ed0\">\n",
              "    <div class=\"colab-df-container\">\n",
              "      <div>\n",
              "<style scoped>\n",
              "    .dataframe tbody tr th:only-of-type {\n",
              "        vertical-align: middle;\n",
              "    }\n",
              "\n",
              "    .dataframe tbody tr th {\n",
              "        vertical-align: top;\n",
              "    }\n",
              "\n",
              "    .dataframe thead th {\n",
              "        text-align: right;\n",
              "    }\n",
              "</style>\n",
              "<table border=\"1\" class=\"dataframe\">\n",
              "  <thead>\n",
              "    <tr style=\"text-align: right;\">\n",
              "      <th></th>\n",
              "      <th>target</th>\n",
              "      <th>text</th>\n",
              "      <th>line_number</th>\n",
              "      <th>total lines</th>\n",
              "    </tr>\n",
              "  </thead>\n",
              "  <tbody>\n",
              "    <tr>\n",
              "      <th>0</th>\n",
              "      <td>OBJECTIVE</td>\n",
              "      <td>to investigate the efficacy of @ weeks of dail...</td>\n",
              "      <td>0</td>\n",
              "      <td>11</td>\n",
              "    </tr>\n",
              "    <tr>\n",
              "      <th>1</th>\n",
              "      <td>METHODS</td>\n",
              "      <td>a total of @ patients with primary knee oa wer...</td>\n",
              "      <td>1</td>\n",
              "      <td>11</td>\n",
              "    </tr>\n",
              "    <tr>\n",
              "      <th>2</th>\n",
              "      <td>METHODS</td>\n",
              "      <td>outcome measures included pain reduction and i...</td>\n",
              "      <td>2</td>\n",
              "      <td>11</td>\n",
              "    </tr>\n",
              "    <tr>\n",
              "      <th>3</th>\n",
              "      <td>METHODS</td>\n",
              "      <td>pain was assessed using the visual analog pain...</td>\n",
              "      <td>3</td>\n",
              "      <td>11</td>\n",
              "    </tr>\n",
              "    <tr>\n",
              "      <th>4</th>\n",
              "      <td>METHODS</td>\n",
              "      <td>secondary outcome measures included the wester...</td>\n",
              "      <td>4</td>\n",
              "      <td>11</td>\n",
              "    </tr>\n",
              "    <tr>\n",
              "      <th>5</th>\n",
              "      <td>METHODS</td>\n",
              "      <td>serum levels of interleukin @ ( il-@ ) , il-@ ...</td>\n",
              "      <td>5</td>\n",
              "      <td>11</td>\n",
              "    </tr>\n",
              "    <tr>\n",
              "      <th>6</th>\n",
              "      <td>RESULTS</td>\n",
              "      <td>there was a clinically relevant reduction in t...</td>\n",
              "      <td>6</td>\n",
              "      <td>11</td>\n",
              "    </tr>\n",
              "    <tr>\n",
              "      <th>7</th>\n",
              "      <td>RESULTS</td>\n",
              "      <td>the mean difference between treatment arms ( @...</td>\n",
              "      <td>7</td>\n",
              "      <td>11</td>\n",
              "    </tr>\n",
              "    <tr>\n",
              "      <th>8</th>\n",
              "      <td>RESULTS</td>\n",
              "      <td>further , there was a clinically relevant redu...</td>\n",
              "      <td>8</td>\n",
              "      <td>11</td>\n",
              "    </tr>\n",
              "    <tr>\n",
              "      <th>9</th>\n",
              "      <td>RESULTS</td>\n",
              "      <td>these differences remained significant at @ we...</td>\n",
              "      <td>9</td>\n",
              "      <td>11</td>\n",
              "    </tr>\n",
              "    <tr>\n",
              "      <th>10</th>\n",
              "      <td>RESULTS</td>\n",
              "      <td>the outcome measures in rheumatology clinical ...</td>\n",
              "      <td>10</td>\n",
              "      <td>11</td>\n",
              "    </tr>\n",
              "    <tr>\n",
              "      <th>11</th>\n",
              "      <td>CONCLUSIONS</td>\n",
              "      <td>low-dose oral prednisolone had both a short-te...</td>\n",
              "      <td>11</td>\n",
              "      <td>11</td>\n",
              "    </tr>\n",
              "  </tbody>\n",
              "</table>\n",
              "</div>\n",
              "      <button class=\"colab-df-convert\" onclick=\"convertToInteractive('df-a221c443-8a0b-4392-af6f-d2c7005b4ed0')\"\n",
              "              title=\"Convert this dataframe to an interactive table.\"\n",
              "              style=\"display:none;\">\n",
              "        \n",
              "  <svg xmlns=\"http://www.w3.org/2000/svg\" height=\"24px\"viewBox=\"0 0 24 24\"\n",
              "       width=\"24px\">\n",
              "    <path d=\"M0 0h24v24H0V0z\" fill=\"none\"/>\n",
              "    <path d=\"M18.56 5.44l.94 2.06.94-2.06 2.06-.94-2.06-.94-.94-2.06-.94 2.06-2.06.94zm-11 1L8.5 8.5l.94-2.06 2.06-.94-2.06-.94L8.5 2.5l-.94 2.06-2.06.94zm10 10l.94 2.06.94-2.06 2.06-.94-2.06-.94-.94-2.06-.94 2.06-2.06.94z\"/><path d=\"M17.41 7.96l-1.37-1.37c-.4-.4-.92-.59-1.43-.59-.52 0-1.04.2-1.43.59L10.3 9.45l-7.72 7.72c-.78.78-.78 2.05 0 2.83L4 21.41c.39.39.9.59 1.41.59.51 0 1.02-.2 1.41-.59l7.78-7.78 2.81-2.81c.8-.78.8-2.07 0-2.86zM5.41 20L4 18.59l7.72-7.72 1.47 1.35L5.41 20z\"/>\n",
              "  </svg>\n",
              "      </button>\n",
              "      \n",
              "  <style>\n",
              "    .colab-df-container {\n",
              "      display:flex;\n",
              "      flex-wrap:wrap;\n",
              "      gap: 12px;\n",
              "    }\n",
              "\n",
              "    .colab-df-convert {\n",
              "      background-color: #E8F0FE;\n",
              "      border: none;\n",
              "      border-radius: 50%;\n",
              "      cursor: pointer;\n",
              "      display: none;\n",
              "      fill: #1967D2;\n",
              "      height: 32px;\n",
              "      padding: 0 0 0 0;\n",
              "      width: 32px;\n",
              "    }\n",
              "\n",
              "    .colab-df-convert:hover {\n",
              "      background-color: #E2EBFA;\n",
              "      box-shadow: 0px 1px 2px rgba(60, 64, 67, 0.3), 0px 1px 3px 1px rgba(60, 64, 67, 0.15);\n",
              "      fill: #174EA6;\n",
              "    }\n",
              "\n",
              "    [theme=dark] .colab-df-convert {\n",
              "      background-color: #3B4455;\n",
              "      fill: #D2E3FC;\n",
              "    }\n",
              "\n",
              "    [theme=dark] .colab-df-convert:hover {\n",
              "      background-color: #434B5C;\n",
              "      box-shadow: 0px 1px 3px 1px rgba(0, 0, 0, 0.15);\n",
              "      filter: drop-shadow(0px 1px 2px rgba(0, 0, 0, 0.3));\n",
              "      fill: #FFFFFF;\n",
              "    }\n",
              "  </style>\n",
              "\n",
              "      <script>\n",
              "        const buttonEl =\n",
              "          document.querySelector('#df-a221c443-8a0b-4392-af6f-d2c7005b4ed0 button.colab-df-convert');\n",
              "        buttonEl.style.display =\n",
              "          google.colab.kernel.accessAllowed ? 'block' : 'none';\n",
              "\n",
              "        async function convertToInteractive(key) {\n",
              "          const element = document.querySelector('#df-a221c443-8a0b-4392-af6f-d2c7005b4ed0');\n",
              "          const dataTable =\n",
              "            await google.colab.kernel.invokeFunction('convertToInteractive',\n",
              "                                                     [key], {});\n",
              "          if (!dataTable) return;\n",
              "\n",
              "          const docLinkHtml = 'Like what you see? Visit the ' +\n",
              "            '<a target=\"_blank\" href=https://colab.research.google.com/notebooks/data_table.ipynb>data table notebook</a>'\n",
              "            + ' to learn more about interactive tables.';\n",
              "          element.innerHTML = '';\n",
              "          dataTable['output_type'] = 'display_data';\n",
              "          await google.colab.output.renderOutput(dataTable, element);\n",
              "          const docLink = document.createElement('div');\n",
              "          docLink.innerHTML = docLinkHtml;\n",
              "          element.appendChild(docLink);\n",
              "        }\n",
              "      </script>\n",
              "    </div>\n",
              "  </div>\n",
              "  "
            ]
          },
          "metadata": {},
          "execution_count": 9
        }
      ]
    },
    {
      "cell_type": "code",
      "source": [
        "train_df.target.value_counts()"
      ],
      "metadata": {
        "colab": {
          "base_uri": "https://localhost:8080/"
        },
        "id": "b7TH7sMsshpn",
        "outputId": "e1b985dc-7a01-472b-e54a-15a5f31f3e32"
      },
      "execution_count": null,
      "outputs": [
        {
          "output_type": "execute_result",
          "data": {
            "text/plain": [
              "METHODS        59353\n",
              "RESULTS        57953\n",
              "CONCLUSIONS    27168\n",
              "BACKGROUND     21727\n",
              "OBJECTIVE      13839\n",
              "Name: target, dtype: int64"
            ]
          },
          "metadata": {},
          "execution_count": 10
        }
      ]
    },
    {
      "cell_type": "markdown",
      "source": [
        "**GET LISTS OF SENTENCES**"
      ],
      "metadata": {
        "id": "lZelgLwDthvZ"
      }
    },
    {
      "cell_type": "code",
      "source": [
        "train_sentences = train_df[\"text\"].tolist()\n",
        "val_sentences = val_df[\"text\"].tolist()\n",
        "test_sentences = test_df[\"text\"].tolist()\n",
        "\n",
        "len(train_sentences)"
      ],
      "metadata": {
        "colab": {
          "base_uri": "https://localhost:8080/"
        },
        "id": "xxRQcipStOLy",
        "outputId": "765fd20a-54ba-439b-b469-e2870dd31040"
      },
      "execution_count": null,
      "outputs": [
        {
          "output_type": "execute_result",
          "data": {
            "text/plain": [
              "180040"
            ]
          },
          "metadata": {},
          "execution_count": 12
        }
      ]
    },
    {
      "cell_type": "code",
      "source": [
        "train_sentences[:5]"
      ],
      "metadata": {
        "colab": {
          "base_uri": "https://localhost:8080/"
        },
        "id": "4LuYrGbatxNI",
        "outputId": "af0e74e6-905d-4c00-8cc3-c50e4e57171d"
      },
      "execution_count": null,
      "outputs": [
        {
          "output_type": "execute_result",
          "data": {
            "text/plain": [
              "['to investigate the efficacy of @ weeks of daily low-dose oral prednisolone in improving pain , mobility , and systemic low-grade inflammation in the short term and whether the effect would be sustained at @ weeks in older adults with moderate to severe knee osteoarthritis ( oa ) .',\n",
              " 'a total of @ patients with primary knee oa were randomized @:@ ; @ received @ mg/day of prednisolone and @ received placebo for @ weeks .',\n",
              " 'outcome measures included pain reduction and improvement in function scores and systemic inflammation markers .',\n",
              " 'pain was assessed using the visual analog pain scale ( @-@ mm ) .',\n",
              " 'secondary outcome measures included the western ontario and mcmaster universities osteoarthritis index scores , patient global assessment ( pga ) of the severity of knee oa , and @-min walk distance ( @mwd ) .']"
            ]
          },
          "metadata": {},
          "execution_count": 16
        }
      ]
    },
    {
      "cell_type": "markdown",
      "source": [
        "# Turning labels and data to numbers"
      ],
      "metadata": {
        "id": "XZMcccVpveP7"
      }
    },
    {
      "cell_type": "code",
      "source": [
        "# making numeric labels\n",
        "\n",
        "# one hot encoding\n",
        "from sklearn.preprocessing import OneHotEncoder\n",
        "one_hot_encoder = OneHotEncoder(sparse_output=False)  # tensorflow is incompatible with sparse matrix\n",
        "\n",
        "train_labels_one_hot = one_hot_encoder.fit_transform(train_df[\"target\"].to_numpy().reshape(-1,1))\n",
        "val_labels_one_hot = one_hot_encoder.fit_transform(val_df[\"target\"].to_numpy().reshape(-1,1))\n",
        "test_labels_one_hot = one_hot_encoder.fit_transform(test_df[\"target\"].to_numpy().reshape(-1,1))\n",
        "\n",
        "\n",
        "train_labels_one_hot"
      ],
      "metadata": {
        "colab": {
          "base_uri": "https://localhost:8080/"
        },
        "id": "ozso0iqltzXO",
        "outputId": "a6067819-1015-478d-fc0d-d7b21e69e587"
      },
      "execution_count": null,
      "outputs": [
        {
          "output_type": "execute_result",
          "data": {
            "text/plain": [
              "array([[0., 0., 0., 1., 0.],\n",
              "       [0., 0., 1., 0., 0.],\n",
              "       [0., 0., 1., 0., 0.],\n",
              "       ...,\n",
              "       [0., 0., 0., 0., 1.],\n",
              "       [0., 1., 0., 0., 0.],\n",
              "       [0., 1., 0., 0., 0.]])"
            ]
          },
          "metadata": {},
          "execution_count": 13
        }
      ]
    },
    {
      "cell_type": "markdown",
      "source": [
        "\n",
        "\n",
        "\n",
        "**Label encode labels**\n",
        "\n",
        "\n"
      ],
      "metadata": {
        "id": "eWQRlvHZyqqn"
      }
    },
    {
      "cell_type": "code",
      "source": [
        "from sklearn.preprocessing import LabelEncoder\n",
        "label_encoder = LabelEncoder()\n",
        "\n",
        "train_labels_encoded = label_encoder.fit_transform(train_df[\"target\"].to_numpy())\n",
        "val_labels_encoded = label_encoder.transform(val_df[\"target\"].to_numpy())\n",
        "test_labels_encoded = label_encoder.transform(test_df[\"target\"].to_numpy())\n",
        "\n",
        "train_labels_encoded , val_labels_encoded"
      ],
      "metadata": {
        "colab": {
          "base_uri": "https://localhost:8080/"
        },
        "id": "4Ctocdiix-JD",
        "outputId": "83b54094-00cc-4013-a714-25d1479a2dbe"
      },
      "execution_count": null,
      "outputs": [
        {
          "output_type": "execute_result",
          "data": {
            "text/plain": [
              "(array([3, 2, 2, ..., 4, 1, 1]), array([0, 0, 3, ..., 4, 1, 1]))"
            ]
          },
          "metadata": {},
          "execution_count": 14
        }
      ]
    },
    {
      "cell_type": "code",
      "source": [
        "# Get class names and num_classes\n",
        "\n",
        "num_classes = len(label_encoder.classes_)\n",
        "class_names = label_encoder.classes_\n",
        "num_classes , class_names"
      ],
      "metadata": {
        "colab": {
          "base_uri": "https://localhost:8080/"
        },
        "id": "FU9HyD2MzERe",
        "outputId": "42af4c74-dc99-4b6f-86a6-7e6fd66e8731"
      },
      "execution_count": null,
      "outputs": [
        {
          "output_type": "execute_result",
          "data": {
            "text/plain": [
              "(5,\n",
              " array(['BACKGROUND', 'CONCLUSIONS', 'METHODS', 'OBJECTIVE', 'RESULTS'],\n",
              "       dtype=object))"
            ]
          },
          "metadata": {},
          "execution_count": 15
        }
      ]
    },
    {
      "cell_type": "markdown",
      "source": [
        "# TF-IDF classifier using Naive Bayes"
      ],
      "metadata": {
        "id": "OYD2s5qN0YU9"
      }
    },
    {
      "cell_type": "code",
      "source": [
        "from sklearn.feature_extraction.text import TfidfVectorizer\n",
        "from sklearn.naive_bayes import MultinomialNB\n",
        "from sklearn.pipeline import Pipeline\n",
        "\n",
        "# create tokenization and modelling pipeline\n",
        "\n",
        "model_0 = Pipeline([\n",
        "    (\"tfidf\" , TfidfVectorizer()),\n",
        "    (\"clf\" , MultinomialNB())\n",
        "])\n",
        "\n",
        "model_0.fit(train_sentences , train_labels_encoded)"
      ],
      "metadata": {
        "colab": {
          "base_uri": "https://localhost:8080/",
          "height": 125
        },
        "id": "lgd-0xp4zXxu",
        "outputId": "0dfc6e00-2c7e-4737-a37f-d93f5e0cf396"
      },
      "execution_count": null,
      "outputs": [
        {
          "output_type": "execute_result",
          "data": {
            "text/plain": [
              "Pipeline(steps=[('tfidf', TfidfVectorizer()), ('clf', MultinomialNB())])"
            ],
            "text/html": [
              "<style>#sk-container-id-1 {color: black;background-color: white;}#sk-container-id-1 pre{padding: 0;}#sk-container-id-1 div.sk-toggleable {background-color: white;}#sk-container-id-1 label.sk-toggleable__label {cursor: pointer;display: block;width: 100%;margin-bottom: 0;padding: 0.3em;box-sizing: border-box;text-align: center;}#sk-container-id-1 label.sk-toggleable__label-arrow:before {content: \"▸\";float: left;margin-right: 0.25em;color: #696969;}#sk-container-id-1 label.sk-toggleable__label-arrow:hover:before {color: black;}#sk-container-id-1 div.sk-estimator:hover label.sk-toggleable__label-arrow:before {color: black;}#sk-container-id-1 div.sk-toggleable__content {max-height: 0;max-width: 0;overflow: hidden;text-align: left;background-color: #f0f8ff;}#sk-container-id-1 div.sk-toggleable__content pre {margin: 0.2em;color: black;border-radius: 0.25em;background-color: #f0f8ff;}#sk-container-id-1 input.sk-toggleable__control:checked~div.sk-toggleable__content {max-height: 200px;max-width: 100%;overflow: auto;}#sk-container-id-1 input.sk-toggleable__control:checked~label.sk-toggleable__label-arrow:before {content: \"▾\";}#sk-container-id-1 div.sk-estimator input.sk-toggleable__control:checked~label.sk-toggleable__label {background-color: #d4ebff;}#sk-container-id-1 div.sk-label input.sk-toggleable__control:checked~label.sk-toggleable__label {background-color: #d4ebff;}#sk-container-id-1 input.sk-hidden--visually {border: 0;clip: rect(1px 1px 1px 1px);clip: rect(1px, 1px, 1px, 1px);height: 1px;margin: -1px;overflow: hidden;padding: 0;position: absolute;width: 1px;}#sk-container-id-1 div.sk-estimator {font-family: monospace;background-color: #f0f8ff;border: 1px dotted black;border-radius: 0.25em;box-sizing: border-box;margin-bottom: 0.5em;}#sk-container-id-1 div.sk-estimator:hover {background-color: #d4ebff;}#sk-container-id-1 div.sk-parallel-item::after {content: \"\";width: 100%;border-bottom: 1px solid gray;flex-grow: 1;}#sk-container-id-1 div.sk-label:hover label.sk-toggleable__label {background-color: #d4ebff;}#sk-container-id-1 div.sk-serial::before {content: \"\";position: absolute;border-left: 1px solid gray;box-sizing: border-box;top: 0;bottom: 0;left: 50%;z-index: 0;}#sk-container-id-1 div.sk-serial {display: flex;flex-direction: column;align-items: center;background-color: white;padding-right: 0.2em;padding-left: 0.2em;position: relative;}#sk-container-id-1 div.sk-item {position: relative;z-index: 1;}#sk-container-id-1 div.sk-parallel {display: flex;align-items: stretch;justify-content: center;background-color: white;position: relative;}#sk-container-id-1 div.sk-item::before, #sk-container-id-1 div.sk-parallel-item::before {content: \"\";position: absolute;border-left: 1px solid gray;box-sizing: border-box;top: 0;bottom: 0;left: 50%;z-index: -1;}#sk-container-id-1 div.sk-parallel-item {display: flex;flex-direction: column;z-index: 1;position: relative;background-color: white;}#sk-container-id-1 div.sk-parallel-item:first-child::after {align-self: flex-end;width: 50%;}#sk-container-id-1 div.sk-parallel-item:last-child::after {align-self: flex-start;width: 50%;}#sk-container-id-1 div.sk-parallel-item:only-child::after {width: 0;}#sk-container-id-1 div.sk-dashed-wrapped {border: 1px dashed gray;margin: 0 0.4em 0.5em 0.4em;box-sizing: border-box;padding-bottom: 0.4em;background-color: white;}#sk-container-id-1 div.sk-label label {font-family: monospace;font-weight: bold;display: inline-block;line-height: 1.2em;}#sk-container-id-1 div.sk-label-container {text-align: center;}#sk-container-id-1 div.sk-container {/* jupyter's `normalize.less` sets `[hidden] { display: none; }` but bootstrap.min.css set `[hidden] { display: none !important; }` so we also need the `!important` here to be able to override the default hidden behavior on the sphinx rendered scikit-learn.org. See: https://github.com/scikit-learn/scikit-learn/issues/21755 */display: inline-block !important;position: relative;}#sk-container-id-1 div.sk-text-repr-fallback {display: none;}</style><div id=\"sk-container-id-1\" class=\"sk-top-container\"><div class=\"sk-text-repr-fallback\"><pre>Pipeline(steps=[(&#x27;tfidf&#x27;, TfidfVectorizer()), (&#x27;clf&#x27;, MultinomialNB())])</pre><b>In a Jupyter environment, please rerun this cell to show the HTML representation or trust the notebook. <br />On GitHub, the HTML representation is unable to render, please try loading this page with nbviewer.org.</b></div><div class=\"sk-container\" hidden><div class=\"sk-item sk-dashed-wrapped\"><div class=\"sk-label-container\"><div class=\"sk-label sk-toggleable\"><input class=\"sk-toggleable__control sk-hidden--visually\" id=\"sk-estimator-id-1\" type=\"checkbox\" ><label for=\"sk-estimator-id-1\" class=\"sk-toggleable__label sk-toggleable__label-arrow\">Pipeline</label><div class=\"sk-toggleable__content\"><pre>Pipeline(steps=[(&#x27;tfidf&#x27;, TfidfVectorizer()), (&#x27;clf&#x27;, MultinomialNB())])</pre></div></div></div><div class=\"sk-serial\"><div class=\"sk-item\"><div class=\"sk-estimator sk-toggleable\"><input class=\"sk-toggleable__control sk-hidden--visually\" id=\"sk-estimator-id-2\" type=\"checkbox\" ><label for=\"sk-estimator-id-2\" class=\"sk-toggleable__label sk-toggleable__label-arrow\">TfidfVectorizer</label><div class=\"sk-toggleable__content\"><pre>TfidfVectorizer()</pre></div></div></div><div class=\"sk-item\"><div class=\"sk-estimator sk-toggleable\"><input class=\"sk-toggleable__control sk-hidden--visually\" id=\"sk-estimator-id-3\" type=\"checkbox\" ><label for=\"sk-estimator-id-3\" class=\"sk-toggleable__label sk-toggleable__label-arrow\">MultinomialNB</label><div class=\"sk-toggleable__content\"><pre>MultinomialNB()</pre></div></div></div></div></div></div></div>"
            ]
          },
          "metadata": {},
          "execution_count": 20
        }
      ]
    },
    {
      "cell_type": "code",
      "source": [
        "baseline_score = model_0.score(val_sentences , val_labels_encoded)\n",
        "print(f\"Baseline accuracy : {baseline_score*100:.2f}%\")"
      ],
      "metadata": {
        "colab": {
          "base_uri": "https://localhost:8080/"
        },
        "id": "JgnQhLDD1cXL",
        "outputId": "3a657da7-71ca-4272-f8a9-fd923514fbb8"
      },
      "execution_count": null,
      "outputs": [
        {
          "output_type": "stream",
          "name": "stdout",
          "text": [
            "Baseline accuracy : 72.18%\n"
          ]
        }
      ]
    },
    {
      "cell_type": "code",
      "source": [
        "baseline_preds = model_0.predict(val_sentences)\n",
        "baseline_preds"
      ],
      "metadata": {
        "colab": {
          "base_uri": "https://localhost:8080/"
        },
        "id": "vPi37N5W19Pq",
        "outputId": "86c3a0ab-038c-4af8-ff65-66f7cc4087f6"
      },
      "execution_count": null,
      "outputs": [
        {
          "output_type": "execute_result",
          "data": {
            "text/plain": [
              "array([4, 1, 3, ..., 4, 4, 1])"
            ]
          },
          "metadata": {},
          "execution_count": 22
        }
      ]
    },
    {
      "cell_type": "code",
      "source": [
        "baseline_res = calculate_results(y_true = val_labels_encoded,\n",
        "                                 y_pred = baseline_preds)\n",
        "baseline_res"
      ],
      "metadata": {
        "colab": {
          "base_uri": "https://localhost:8080/"
        },
        "id": "qM2eX9742hFl",
        "outputId": "9db8fe79-5df2-42b6-acee-75fb68bf2eb5"
      },
      "execution_count": null,
      "outputs": [
        {
          "output_type": "execute_result",
          "data": {
            "text/plain": [
              "{'accuracy': 72.1832384482987,\n",
              " 'precision': 0.7186466952323352,\n",
              " 'recall': 0.7218323844829869,\n",
              " 'f1': 0.6989250353450294}"
            ]
          },
          "metadata": {},
          "execution_count": 23
        }
      ]
    },
    {
      "cell_type": "markdown",
      "source": [
        "# TOKENIZATION and EMBEDDING"
      ],
      "metadata": {
        "id": "w6k1kIImbJWy"
      }
    },
    {
      "cell_type": "code",
      "source": [
        "MAX_LENGTH = round(sum([len(i.split()) for i in train_sentences])/len(train_sentences))\n",
        "sent_len = [len(i.split()) for i in train_sentences]\n",
        "MAX_LENGTH"
      ],
      "metadata": {
        "id": "M7XrImrJ3Ivz",
        "colab": {
          "base_uri": "https://localhost:8080/"
        },
        "outputId": "e163b568-96ab-4d58-bf3a-0cbbdce64a32"
      },
      "execution_count": null,
      "outputs": [
        {
          "output_type": "execute_result",
          "data": {
            "text/plain": [
              "26"
            ]
          },
          "metadata": {},
          "execution_count": 16
        }
      ]
    },
    {
      "cell_type": "code",
      "source": [
        "import matplotlib.pyplot as plt\n",
        "plt.hist(sent_len, bins=7)"
      ],
      "metadata": {
        "colab": {
          "base_uri": "https://localhost:8080/",
          "height": 517
        },
        "id": "WwK7cRLUcz6c",
        "outputId": "ccccc60e-b794-4ed4-d72d-a7dd4bf31d0e"
      },
      "execution_count": null,
      "outputs": [
        {
          "output_type": "execute_result",
          "data": {
            "text/plain": [
              "(array([1.5999e+05, 1.8760e+04, 1.1510e+03, 9.9000e+01, 2.8000e+01,\n",
              "        1.0000e+01, 2.0000e+00]),\n",
              " array([  1.        ,  43.14285714,  85.28571429, 127.42857143,\n",
              "        169.57142857, 211.71428571, 253.85714286, 296.        ]),\n",
              " <BarContainer object of 7 artists>)"
            ]
          },
          "metadata": {},
          "execution_count": 17
        },
        {
          "output_type": "display_data",
          "data": {
            "text/plain": [
              "<Figure size 640x480 with 1 Axes>"
            ],
            "image/png": "[encoded data removed]"
          },
          "metadata": {}
        }
      ]
    },
    {
      "cell_type": "code",
      "source": [
        "import numpy as np\n",
        "\n",
        "output_seq_len = int(np.percentile(sent_len , 95))\n",
        "output_seq_len"
      ],
      "metadata": {
        "colab": {
          "base_uri": "https://localhost:8080/"
        },
        "id": "1ZpxBoyyeAMJ",
        "outputId": "3a357c96-0241-4565-cac3-3ce0f8ae72f1"
      },
      "execution_count": null,
      "outputs": [
        {
          "output_type": "execute_result",
          "data": {
            "text/plain": [
              "55"
            ]
          },
          "metadata": {},
          "execution_count": 18
        }
      ]
    },
    {
      "cell_type": "code",
      "source": [
        "from tensorflow.keras.layers.experimental.preprocessing import TextVectorization\n",
        "\n",
        "max_vocab_length = 68000  # given in pubmed research paper\n",
        "max_length = output_seq_len\n",
        "\n",
        "text_vectorizer = TextVectorization(max_tokens = max_vocab_length,\n",
        "                                    output_sequence_length = max_length)"
      ],
      "metadata": {
        "id": "4sui154oaRJw"
      },
      "execution_count": null,
      "outputs": []
    },
    {
      "cell_type": "code",
      "source": [
        "text_vectorizer.adapt(train_sentences)"
      ],
      "metadata": {
        "id": "ZEMq9FwibIK8"
      },
      "execution_count": null,
      "outputs": []
    },
    {
      "cell_type": "code",
      "source": [
        "sample_sent = train_sentences[0]\n",
        "sample_sent , len(sample_sent)"
      ],
      "metadata": {
        "colab": {
          "base_uri": "https://localhost:8080/"
        },
        "id": "L7uSkzP8bQnd",
        "outputId": "549054fa-5966-4b71-c17a-d4fa6cd6f203"
      },
      "execution_count": null,
      "outputs": [
        {
          "output_type": "execute_result",
          "data": {
            "text/plain": [
              "('to investigate the efficacy of @ weeks of daily low-dose oral prednisolone in improving pain , mobility , and systemic low-grade inflammation in the short term and whether the effect would be sustained at @ weeks in older adults with moderate to severe knee osteoarthritis ( oa ) .',\n",
              " 281)"
            ]
          },
          "metadata": {},
          "execution_count": 21
        }
      ]
    },
    {
      "cell_type": "code",
      "source": [
        "sample_vect = text_vectorizer([sample_sent])\n",
        "sample_vect"
      ],
      "metadata": {
        "colab": {
          "base_uri": "https://localhost:8080/"
        },
        "id": "5tuhZla-bd6X",
        "outputId": "73d4c1ea-a9dd-4929-d69f-34db3867db2b"
      },
      "execution_count": null,
      "outputs": [
        {
          "output_type": "execute_result",
          "data": {
            "text/plain": [
              "<tf.Tensor: shape=(1, 55), dtype=int64, numpy=\n",
              "array([[   6,  331,    2,   79,    4,   53,    4,  161, 1127,  217, 2535,\n",
              "           5,  557,   65, 1584,    3,  670, 5559,  636,    5,    2,  654,\n",
              "        1137,    3,  180,    2,   70,  495,   36,  781,   15,   53,    5,\n",
              "         350,  266,    7,  362,    6,  289,  517, 1430, 1743,    0,    0,\n",
              "           0,    0,    0,    0,    0,    0,    0,    0,    0,    0,    0]])>"
            ]
          },
          "metadata": {},
          "execution_count": 22
        }
      ]
    },
    {
      "cell_type": "code",
      "source": [
        "\n",
        "word_in_vocab = text_vectorizer.get_vocabulary()\n",
        "top_5 = word_in_vocab[:5]\n",
        "least_5 = word_in_vocab[-5:]\n",
        "\n",
        "print(f\"Top 5 words : {top_5}\")\n",
        "print(f\"Least 5 words : {least_5}\")\n",
        "len(word_in_vocab)"
      ],
      "metadata": {
        "colab": {
          "base_uri": "https://localhost:8080/"
        },
        "id": "UjQe0OaCbgaw",
        "outputId": "5fff6075-008e-48c8-cddf-2f1b529c39a6"
      },
      "execution_count": null,
      "outputs": [
        {
          "output_type": "stream",
          "name": "stdout",
          "text": [
            "Top 5 words : ['', '[UNK]', 'the', 'and', 'of']\n",
            "Least 5 words : ['aainduced', 'aaigroup', 'aachener', 'aachen', 'aaacp']\n"
          ]
        },
        {
          "output_type": "execute_result",
          "data": {
            "text/plain": [
              "64841"
            ]
          },
          "metadata": {},
          "execution_count": 23
        }
      ]
    },
    {
      "cell_type": "code",
      "source": [
        "# create embedding layer\n",
        "\n",
        "from tensorflow.keras.layers import Embedding\n",
        "\n",
        "token_embed = Embedding(input_dim = len(word_in_vocab),\n",
        "                      output_dim = 128,\n",
        "                      mask_zero = True,\n",
        "                      name=\"token_embedding\"\n",
        "                      )\n",
        "token_embed\n"
      ],
      "metadata": {
        "colab": {
          "base_uri": "https://localhost:8080/"
        },
        "id": "A6Rex_zHbjO7",
        "outputId": "3c62ee13-1060-43ff-e545-2d56cf7b3a56"
      },
      "execution_count": null,
      "outputs": [
        {
          "output_type": "execute_result",
          "data": {
            "text/plain": [
              "<keras.layers.core.embedding.Embedding at 0x7f61203c71f0>"
            ]
          },
          "metadata": {},
          "execution_count": 24
        }
      ]
    },
    {
      "cell_type": "code",
      "source": [
        "text_vectorizer.get_config()"
      ],
      "metadata": {
        "colab": {
          "base_uri": "https://localhost:8080/"
        },
        "id": "BQyg4rnkb6fY",
        "outputId": "c914dbed-1fbb-4f49-d5c9-0808c0f9a99d"
      },
      "execution_count": null,
      "outputs": [
        {
          "output_type": "execute_result",
          "data": {
            "text/plain": [
              "{'name': 'text_vectorization',\n",
              " 'trainable': True,\n",
              " 'dtype': 'string',\n",
              " 'batch_input_shape': (None,),\n",
              " 'max_tokens': 68000,\n",
              " 'standardize': 'lower_and_strip_punctuation',\n",
              " 'split': 'whitespace',\n",
              " 'ngrams': None,\n",
              " 'output_mode': 'int',\n",
              " 'output_sequence_length': 55,\n",
              " 'pad_to_max_tokens': False,\n",
              " 'sparse': False,\n",
              " 'ragged': False,\n",
              " 'vocabulary': None,\n",
              " 'idf_weights': None,\n",
              " 'encoding': 'utf-8',\n",
              " 'vocabulary_size': 64841}"
            ]
          },
          "metadata": {},
          "execution_count": 24
        }
      ]
    },
    {
      "cell_type": "code",
      "source": [
        "embedded_sample = token_embed(sample_vect)\n",
        "embedded_sample"
      ],
      "metadata": {
        "colab": {
          "base_uri": "https://localhost:8080/"
        },
        "id": "n6xmHx8xgfmq",
        "outputId": "2a03224e-af5e-4744-c960-18d266c1c4df"
      },
      "execution_count": null,
      "outputs": [
        {
          "output_type": "execute_result",
          "data": {
            "text/plain": [
              "<tf.Tensor: shape=(1, 55, 128), dtype=float32, numpy=\n",
              "array([[[-0.0051092 ,  0.0343748 ,  0.00346627, ..., -0.02653788,\n",
              "          0.00856883, -0.01416217],\n",
              "        [ 0.02220942,  0.01471282,  0.03812477, ...,  0.03620515,\n",
              "         -0.00141878,  0.0170457 ],\n",
              "        [-0.03616823,  0.03506574,  0.0176458 , ..., -0.03370549,\n",
              "         -0.00229152, -0.00123086],\n",
              "        ...,\n",
              "        [ 0.01613399,  0.02930197,  0.00316303, ...,  0.01205319,\n",
              "          0.02948317,  0.02022662],\n",
              "        [ 0.01613399,  0.02930197,  0.00316303, ...,  0.01205319,\n",
              "          0.02948317,  0.02022662],\n",
              "        [ 0.01613399,  0.02930197,  0.00316303, ...,  0.01205319,\n",
              "          0.02948317,  0.02022662]]], dtype=float32)>"
            ]
          },
          "metadata": {},
          "execution_count": 25
        }
      ]
    },
    {
      "cell_type": "markdown",
      "source": [
        "# Creating fast loading dataset\n",
        "Basically reduced the gap between data preparation and it's GPU utilization"
      ],
      "metadata": {
        "id": "8HqZr3uuiFxP"
      }
    },
    {
      "cell_type": "code",
      "source": [
        "# turn our data into tensorflow datasets\n",
        "import tensorflow as tf\n",
        "\n",
        "\n",
        "train_dataset = tf.data.Dataset.from_tensor_slices((train_sentences,train_labels_one_hot))\n",
        "valid_dataset = tf.data.Dataset.from_tensor_slices((val_sentences,val_labels_one_hot))\n",
        "test_dataset = tf.data.Dataset.from_tensor_slices((test_sentences,test_labels_one_hot))\n",
        "\n",
        "train_dataset , train_labels_one_hot.shape"
      ],
      "metadata": {
        "colab": {
          "base_uri": "https://localhost:8080/"
        },
        "id": "lwfa2BHshi-A",
        "outputId": "fd77aea1-9c0b-462e-b09e-c63f4c38072a"
      },
      "execution_count": null,
      "outputs": [
        {
          "output_type": "execute_result",
          "data": {
            "text/plain": [
              "(<_TensorSliceDataset element_spec=(TensorSpec(shape=(), dtype=tf.string, name=None), TensorSpec(shape=(5,), dtype=tf.float64, name=None))>,\n",
              " (180040, 5))"
            ]
          },
          "metadata": {},
          "execution_count": 26
        }
      ]
    },
    {
      "cell_type": "code",
      "source": [
        "# Take TensorSliceDataset and turn them into prefetched datasets\n",
        "\n",
        "train_dataset = train_dataset.batch(32).prefetch(tf.data.AUTOTUNE)  # read the documentation\n",
        "valid_dataset = valid_dataset.batch(32).prefetch(tf.data.AUTOTUNE)\n",
        "test_dataset = test_dataset.batch(32).prefetch(tf.data.AUTOTUNE)\n",
        "\n",
        "train_dataset"
      ],
      "metadata": {
        "colab": {
          "base_uri": "https://localhost:8080/"
        },
        "id": "0WAGT3sJi1lr",
        "outputId": "deeb3ab8-ac4a-4046-e3a8-62eea52cf6a8"
      },
      "execution_count": null,
      "outputs": [
        {
          "output_type": "execute_result",
          "data": {
            "text/plain": [
              "<_PrefetchDataset element_spec=(TensorSpec(shape=(None,), dtype=tf.string, name=None), TensorSpec(shape=(None, 5), dtype=tf.float64, name=None))>"
            ]
          },
          "metadata": {},
          "execution_count": 27
        }
      ]
    },
    {
      "cell_type": "markdown",
      "source": [
        "# Conv1D Model"
      ],
      "metadata": {
        "id": "C9s0UtRakgdE"
      }
    },
    {
      "cell_type": "code",
      "source": [
        "from tensorflow.keras import layers\n",
        "\n",
        "inputs = layers.Input(shape = (1,) , dtype=\"string\")\n",
        "text_vectors = text_vectorizer(inputs)\n",
        "token_embeddings = token_embed(text_vectors)\n",
        "x = layers.Conv1D(64 , kernel_size = 5 , padding=\"same\" , activation=\"relu\")(token_embeddings)\n",
        "x = layers.GlobalAveragePooling1D()(x)\n",
        "outputs = layers.Dense(num_classes , activation=\"softmax\")(x)\n",
        "\n",
        "model_1 = tf.keras.Model(inputs , outputs , name=\"Conv1d_model\")"
      ],
      "metadata": {
        "id": "pSbAbPN8kXNW"
      },
      "execution_count": null,
      "outputs": []
    },
    {
      "cell_type": "code",
      "source": [
        "model_1.compile(loss=\"categorical_crossentropy\",\n",
        "                optimizer=tf.keras.optimizers.Adam(),\n",
        "                metrics=[\"accuracy\"])"
      ],
      "metadata": {
        "id": "Mhc9ifHxmSQ3"
      },
      "execution_count": null,
      "outputs": []
    },
    {
      "cell_type": "markdown",
      "source": [
        "there are 5627 in train_dataset, we train on only 10% of it"
      ],
      "metadata": {
        "id": "2b3lYrNAna05"
      }
    },
    {
      "cell_type": "code",
      "source": [
        "model1_hist = model_1.fit(train_dataset,\n",
        "                          steps_per_epoch = int(0.1*len(train_dataset)),  # runs only on 10 percent data\n",
        "                          epochs=5,\n",
        "                          validation_data=valid_dataset,\n",
        "                          validation_steps= int(0.1*len(valid_dataset)))"
      ],
      "metadata": {
        "colab": {
          "base_uri": "https://localhost:8080/"
        },
        "id": "uKJVJurQmc5S",
        "outputId": "b02e393e-76ce-4674-d73e-2a4aa13e4a0a"
      },
      "execution_count": null,
      "outputs": [
        {
          "output_type": "stream",
          "name": "stdout",
          "text": [
            "Epoch 1/5\n",
            "562/562 [==============================] - 44s 59ms/step - loss: 0.9169 - accuracy: 0.6357 - val_loss: 0.6830 - val_accuracy: 0.7420\n",
            "Epoch 2/5\n",
            "562/562 [==============================] - 7s 13ms/step - loss: 0.6571 - accuracy: 0.7565 - val_loss: 0.6318 - val_accuracy: 0.7739\n",
            "Epoch 3/5\n",
            "562/562 [==============================] - 6s 11ms/step - loss: 0.6176 - accuracy: 0.7746 - val_loss: 0.5957 - val_accuracy: 0.7832\n",
            "Epoch 4/5\n",
            "562/562 [==============================] - 4s 7ms/step - loss: 0.5887 - accuracy: 0.7877 - val_loss: 0.5772 - val_accuracy: 0.7922\n",
            "Epoch 5/5\n",
            "562/562 [==============================] - 6s 10ms/step - loss: 0.5907 - accuracy: 0.7926 - val_loss: 0.5586 - val_accuracy: 0.7975\n"
          ]
        }
      ]
    },
    {
      "cell_type": "code",
      "source": [
        "model_1.evaluate(valid_dataset)"
      ],
      "metadata": {
        "colab": {
          "base_uri": "https://localhost:8080/"
        },
        "id": "gBmWGN2DnIuV",
        "outputId": "0e6ee4c0-243d-4f2f-d908-f31413dcc970"
      },
      "execution_count": null,
      "outputs": [
        {
          "output_type": "stream",
          "name": "stdout",
          "text": [
            "945/945 [==============================] - 3s 3ms/step - loss: 0.5596 - accuracy: 0.8009\n"
          ]
        },
        {
          "output_type": "execute_result",
          "data": {
            "text/plain": [
              "[0.5595941543579102, 0.8008738160133362]"
            ]
          },
          "metadata": {},
          "execution_count": 40
        }
      ]
    },
    {
      "cell_type": "code",
      "source": [
        "# making preds\n",
        "\n",
        "model_1_pred_probs = model_1.predict(valid_dataset)\n",
        "model_1_preds = tf.argmax(model_1_pred_probs , axis=1)\n"
      ],
      "metadata": {
        "colab": {
          "base_uri": "https://localhost:8080/"
        },
        "id": "FLF0dTOpnrr9",
        "outputId": "a18ebf8b-f0c4-4327-f178-2e02edb35cba"
      },
      "execution_count": null,
      "outputs": [
        {
          "output_type": "stream",
          "name": "stdout",
          "text": [
            "945/945 [==============================] - 2s 2ms/step\n"
          ]
        }
      ]
    },
    {
      "cell_type": "code",
      "source": [
        "model_1_preds , class_names"
      ],
      "metadata": {
        "id": "BKUlCK3NoQJF",
        "outputId": "0e70110e-47a6-453e-8250-abed754c4869",
        "colab": {
          "base_uri": "https://localhost:8080/"
        }
      },
      "execution_count": null,
      "outputs": [
        {
          "output_type": "execute_result",
          "data": {
            "text/plain": [
              "(<tf.Tensor: shape=(30212,), dtype=int64, numpy=array([0, 0, 3, ..., 4, 4, 1])>,\n",
              " array(['BACKGROUND', 'CONCLUSIONS', 'METHODS', 'OBJECTIVE', 'RESULTS'],\n",
              "       dtype=object))"
            ]
          },
          "metadata": {},
          "execution_count": 42
        }
      ]
    },
    {
      "cell_type": "code",
      "source": [
        "model_1_res = calculate_results(val_labels_encoded,\n",
        "                                model_1_preds)\n",
        "model_1_res"
      ],
      "metadata": {
        "colab": {
          "base_uri": "https://localhost:8080/"
        },
        "id": "mzD8gh2coCSQ",
        "outputId": "e35c1b9c-b9d2-4fc0-973f-5ead2942c593"
      },
      "execution_count": null,
      "outputs": [
        {
          "output_type": "execute_result",
          "data": {
            "text/plain": [
              "{'accuracy': 80.08738249702105,\n",
              " 'precision': 0.8005328584926127,\n",
              " 'recall': 0.8008738249702105,\n",
              " 'f1': 0.797699132140414}"
            ]
          },
          "metadata": {},
          "execution_count": 43
        }
      ]
    },
    {
      "cell_type": "markdown",
      "source": [
        "# TF pretrained Feature\n",
        "The paper used the GloVe embedding(google it) but we are using USE"
      ],
      "metadata": {
        "id": "Fpn62Rb3oUyU"
      }
    },
    {
      "cell_type": "code",
      "source": [
        "# downloading pretrained model\n",
        "\n",
        "import tensorflow_hub as hub\n",
        "\n",
        "USE_embed = hub.KerasLayer(\"https://tfhub.dev/google/universal-sentence-encoder/4\",\n",
        "                           trainable=False,\n",
        "                           name=\"universal_sentence_encoder\")"
      ],
      "metadata": {
        "id": "1hLM6-geoMjs"
      },
      "execution_count": null,
      "outputs": []
    },
    {
      "cell_type": "code",
      "source": [
        "import random\n",
        "random_sent = random.choice(train_sentences)\n",
        "print(random_sent)\n",
        "\n",
        "rand_embed_sent = USE_embed([random_sent])\n",
        "rand_embed_sent[0]"
      ],
      "metadata": {
        "colab": {
          "base_uri": "https://localhost:8080/"
        },
        "id": "m7xCNnYxPPda",
        "outputId": "6f4c5d36-ab42-4d8a-dfc5-d7cd0cbc118b"
      },
      "execution_count": null,
      "outputs": [
        {
          "output_type": "stream",
          "name": "stdout",
          "text": [
            "there were @ patients in our study .\n"
          ]
        },
        {
          "output_type": "execute_result",
          "data": {
            "text/plain": [
              "<tf.Tensor: shape=(512,), dtype=float32, numpy=\n",
              "array([-2.84736548e-02,  4.07172740e-02, -9.15925112e-03,  6.32732268e-03,\n",
              "        4.65194741e-03,  1.45925283e-02,  2.07002461e-02,  1.76919699e-02,\n",
              "       -4.52979840e-02, -5.52027002e-02,  7.92529359e-02,  1.35193882e-03,\n",
              "        9.43270698e-02,  8.98169503e-02, -3.69646624e-02, -1.42909661e-02,\n",
              "       -9.58322808e-02, -7.14400560e-02, -2.70264549e-03, -8.50730985e-02,\n",
              "       -7.47380080e-03,  3.74653153e-02, -4.84748967e-02, -7.47178569e-02,\n",
              "       -1.68162994e-02, -9.75853018e-03,  2.75137369e-02,  5.60362823e-02,\n",
              "        6.51295185e-02,  3.69787887e-02,  3.83018367e-02,  9.96715948e-02,\n",
              "       -1.55584095e-02,  1.61193684e-02, -5.29605560e-02, -2.63707433e-02,\n",
              "       -4.67945449e-02, -1.92561857e-02, -2.66144052e-02, -5.38669527e-02,\n",
              "       -5.65973930e-02,  6.39811084e-02, -4.35617603e-02,  4.66926284e-02,\n",
              "       -4.87159123e-05,  3.79428044e-02, -2.40767524e-02,  5.87181598e-02,\n",
              "        1.31287577e-03, -5.79132736e-02, -3.18831764e-02, -2.57219225e-02,\n",
              "       -9.08492133e-02,  2.66951900e-02, -1.01569155e-02, -5.68696931e-02,\n",
              "        1.02410698e-02,  4.19245549e-02, -1.53111201e-02, -1.74991731e-02,\n",
              "       -4.24127951e-02,  4.15807068e-02, -1.18062161e-02, -3.34811956e-02,\n",
              "        5.11552878e-02,  8.12555775e-02,  2.94106212e-02, -2.00008359e-02,\n",
              "       -1.68450829e-02, -6.58595413e-02,  2.94073448e-02, -2.72068568e-02,\n",
              "       -2.77638584e-02,  1.77764017e-02,  4.19135690e-02, -5.27163669e-02,\n",
              "        6.75866678e-02,  6.11215504e-03, -5.62209897e-02,  3.72564979e-02,\n",
              "       -5.55729168e-03, -3.12882550e-02,  4.60281372e-02,  3.79488803e-02,\n",
              "        9.71492007e-03,  4.18250673e-02, -4.56271619e-02, -3.44275907e-02,\n",
              "        4.20117304e-02, -8.27854127e-02,  2.56088246e-02, -3.59676853e-02,\n",
              "        2.80368533e-02,  6.35629743e-02,  4.83016996e-03,  7.39481300e-02,\n",
              "       -3.90051268e-02, -5.45486212e-02,  2.81661954e-02,  1.26020620e-02,\n",
              "        1.55495778e-02, -7.89662600e-02, -7.74635235e-03,  4.97380644e-02,\n",
              "        2.15250403e-02,  8.15921463e-03,  1.95773114e-02,  1.75064208e-03,\n",
              "       -3.36509310e-02, -3.14286500e-02,  6.70503080e-02,  7.21326694e-02,\n",
              "        6.08662181e-02,  7.99237117e-02, -5.07043675e-02, -3.75759304e-02,\n",
              "        2.83890665e-02,  1.30841741e-03,  8.66569951e-02,  4.55859639e-02,\n",
              "       -3.93095091e-02, -8.95526446e-03, -1.58435404e-02, -4.14240658e-02,\n",
              "       -7.17158169e-02,  9.44663063e-02, -1.07478295e-02, -5.08583114e-02,\n",
              "       -2.45136470e-02,  4.75253910e-02, -4.90643419e-02,  9.90817025e-02,\n",
              "       -5.48125729e-02, -3.94983124e-03, -2.87606735e-02, -4.84704264e-02,\n",
              "        2.67060194e-02, -1.16966888e-02,  5.82087412e-02, -2.77006477e-02,\n",
              "       -6.58703148e-02, -9.44095701e-02, -3.40858437e-02,  5.33217331e-03,\n",
              "       -6.00847788e-02, -3.91926728e-02,  5.31057641e-02,  1.84225873e-03,\n",
              "        7.71525428e-02, -4.49189134e-02, -4.79580797e-02, -6.07415754e-03,\n",
              "       -7.16356141e-03,  4.84679043e-02,  4.96933796e-02, -2.56951321e-02,\n",
              "        3.32360864e-02, -1.31690018e-02,  1.38451513e-02, -4.73288298e-02,\n",
              "        2.25028116e-02, -2.60792561e-02,  6.48553343e-03, -1.74382478e-02,\n",
              "       -4.84951064e-02, -4.20495979e-02,  2.75953151e-02,  1.41592929e-02,\n",
              "       -6.77180067e-02,  2.21673809e-02, -6.10349663e-02, -3.55245583e-02,\n",
              "       -7.81165808e-02,  3.98525931e-02, -6.35946915e-02,  1.87522247e-02,\n",
              "       -8.46016128e-03, -7.48703862e-03,  1.25742787e-02,  6.18954599e-02,\n",
              "       -3.63456197e-02, -1.99721400e-02,  1.74223457e-03,  6.80278838e-02,\n",
              "       -2.59910412e-02,  1.19758882e-02, -5.19944634e-03,  4.53573205e-02,\n",
              "        5.83327329e-03,  7.19664320e-02,  4.67464626e-02, -6.21082075e-02,\n",
              "       -4.67280410e-02, -9.70057561e-04,  1.83290318e-02, -2.06610095e-02,\n",
              "        1.82773955e-02,  2.01838706e-02, -6.95262626e-02, -7.85644576e-02,\n",
              "       -2.71584988e-02,  4.39945757e-02, -3.25391721e-03,  8.68425444e-02,\n",
              "        6.42882586e-02, -9.50146988e-02,  6.39387965e-02, -7.48585984e-02,\n",
              "       -3.90538131e-03,  4.23289910e-02,  4.46802154e-02,  1.35045126e-02,\n",
              "       -5.29042110e-02,  5.66901155e-02,  8.14330056e-02,  4.83268052e-02,\n",
              "        5.97716272e-02,  5.24586253e-02,  3.96694988e-02, -2.78867260e-02,\n",
              "       -3.32447351e-03,  2.04184558e-02,  4.26886939e-02, -1.80886108e-02,\n",
              "       -8.33620038e-03,  4.49124649e-02, -4.82135601e-02, -3.27107646e-02,\n",
              "       -2.06116084e-02,  2.07265448e-02, -4.44080010e-02,  8.27547684e-02,\n",
              "        2.52783727e-02,  7.76792914e-02,  2.35194229e-02, -1.68040507e-02,\n",
              "        2.40559876e-02,  2.71312650e-02,  4.43367735e-02,  1.89505529e-03,\n",
              "        4.07665409e-02,  2.72715520e-02,  4.35193479e-02, -4.78235967e-02,\n",
              "        1.87766366e-02, -7.29900450e-02, -3.73643003e-02,  3.07892039e-02,\n",
              "       -2.55428962e-02, -7.14053586e-02, -2.82189954e-04, -1.13932807e-02,\n",
              "       -5.69148287e-02, -2.22857166e-02, -8.25770106e-03, -8.98001599e-04,\n",
              "       -8.08786005e-02, -3.51108685e-02, -2.36665402e-02,  7.01372400e-02,\n",
              "       -1.78753324e-02,  1.57527030e-02, -2.84174387e-03,  7.60698095e-02,\n",
              "       -4.47006673e-02, -2.49394402e-03,  3.68613973e-02,  7.37599060e-02,\n",
              "       -5.65575883e-02,  3.67128253e-02,  9.07446258e-03,  6.26695156e-02,\n",
              "        4.27141152e-02, -6.82347864e-02, -5.78758307e-02,  1.57149415e-02,\n",
              "       -3.08205709e-02,  1.11354133e-02, -3.72084044e-02, -6.95846155e-02,\n",
              "       -1.23541458e-02,  1.19385887e-02, -4.46050614e-02, -5.30586801e-02,\n",
              "        2.94437557e-02,  3.29044648e-02,  6.93653822e-02,  5.71330450e-02,\n",
              "       -1.10803153e-02, -4.38555330e-02, -1.41310971e-02, -1.31419338e-02,\n",
              "        7.27046132e-02, -2.70017944e-02, -8.10675472e-02,  5.97892620e-04,\n",
              "       -5.74481115e-02, -1.07970191e-02,  5.00578759e-03,  4.19961475e-02,\n",
              "        7.12462366e-02, -2.33532041e-02,  3.16137895e-02, -2.97571160e-02,\n",
              "       -6.50528073e-02, -4.25737835e-02,  2.80313082e-02,  3.18766013e-02,\n",
              "       -5.47201931e-02,  3.30117880e-04, -4.74006347e-02, -8.61138254e-02,\n",
              "        3.38696651e-02,  4.82597388e-02,  4.61469442e-02, -1.45060206e-02,\n",
              "        9.55940783e-03, -7.54159018e-02,  6.77474514e-02,  2.44760625e-02,\n",
              "       -1.90205909e-02, -2.17234790e-02,  5.05346023e-02,  1.00673921e-02,\n",
              "       -7.80233443e-02,  2.95827519e-02,  2.51029688e-03, -6.23306409e-02,\n",
              "       -6.05948828e-02,  4.58342358e-02, -5.79630584e-02,  7.05397725e-02,\n",
              "        1.71547923e-02,  4.00095480e-03,  7.42549310e-03, -2.01421008e-02,\n",
              "       -2.39188876e-02, -6.46880642e-02, -5.45694344e-02, -2.09148843e-02,\n",
              "       -2.29642559e-02,  5.95263317e-02,  8.94975364e-02,  6.13759235e-02,\n",
              "       -2.81072166e-02, -2.97276173e-02,  2.66099479e-02,  3.53481397e-02,\n",
              "       -1.01306196e-02,  5.48845530e-02,  3.51046696e-02,  2.56035402e-02,\n",
              "       -1.17731448e-02,  1.87772829e-02,  7.84535855e-02, -8.25626776e-02,\n",
              "       -4.74092662e-02,  1.29136788e-02,  5.49582355e-02,  3.39996698e-03,\n",
              "        6.94341809e-02, -4.03169915e-02, -6.02768324e-02, -3.87757383e-02,\n",
              "        2.45486642e-03, -6.96451962e-02,  2.02182941e-02, -5.96518628e-03,\n",
              "       -9.57000721e-03,  5.93572892e-02,  2.07792912e-02, -3.28996219e-02,\n",
              "        3.48558910e-02, -2.02213321e-02,  3.96266021e-02,  3.24518196e-02,\n",
              "        6.26329035e-02, -1.63228083e-02, -6.44847797e-03, -2.77746916e-02,\n",
              "       -2.08486933e-02, -2.03900561e-02, -3.71703953e-02,  2.92095374e-02,\n",
              "       -3.58967558e-02, -5.50927930e-02,  3.33146821e-03,  2.08210014e-02,\n",
              "        6.37770891e-02, -6.31253719e-02,  7.37890825e-02,  6.93712533e-02,\n",
              "       -5.65793514e-02, -1.25470562e-02, -2.55963299e-03, -2.62861070e-03,\n",
              "       -2.77979001e-02, -4.51518558e-02,  5.60106672e-02, -9.84440520e-02,\n",
              "       -8.14617723e-02,  6.55348673e-02,  8.25287867e-03,  3.49969268e-02,\n",
              "        4.50899499e-03, -4.01821695e-02, -5.76692373e-02,  2.25904845e-02,\n",
              "       -6.67314418e-03,  9.03630629e-03,  6.88209385e-02, -5.89273162e-02,\n",
              "       -5.43155475e-04, -2.42309924e-02,  6.96471110e-02, -6.81677014e-02,\n",
              "       -1.26401410e-02, -6.69671744e-02, -2.48435028e-02,  2.51766089e-02,\n",
              "        1.92690920e-03, -9.18874294e-02,  5.59185334e-02,  1.53265102e-02,\n",
              "        3.18016298e-02, -2.24893261e-02,  3.67862843e-02,  2.89265551e-02,\n",
              "        3.05101871e-02, -7.33444169e-02, -6.06480241e-02, -5.19348718e-02,\n",
              "        6.35157302e-02, -3.58779207e-02, -7.97515176e-03,  2.61759404e-02,\n",
              "       -3.73904519e-02,  2.02684868e-02,  5.72063066e-02,  3.15003768e-02,\n",
              "       -6.61216751e-02,  6.71860948e-02, -2.47853734e-02,  3.92683819e-02,\n",
              "        2.97838841e-02, -4.70650680e-02, -3.40934061e-02,  3.60038243e-02,\n",
              "        1.38344225e-02,  2.83253137e-02,  3.89387421e-02,  1.60778239e-02,\n",
              "        6.10823669e-02, -5.36304852e-03,  3.67854014e-02, -5.09398133e-02,\n",
              "        4.85938489e-02,  5.47153093e-02, -7.12658186e-03,  4.34684381e-02,\n",
              "        2.14523263e-02,  4.17040288e-02, -4.41800356e-02,  6.90166131e-02,\n",
              "       -1.58287510e-02, -1.78607590e-02,  1.89130730e-03,  1.92310773e-02,\n",
              "        4.72183414e-02,  2.83923745e-02,  1.99690703e-02, -1.27631305e-02,\n",
              "       -7.26408362e-02,  1.98206194e-02, -6.93787262e-02,  2.34412123e-02,\n",
              "        7.84183815e-02,  4.13856059e-02, -4.06697839e-02,  1.25617841e-02,\n",
              "       -2.38732975e-02, -1.49616562e-02, -4.69180495e-02,  3.85343730e-02,\n",
              "        2.09237654e-02, -1.22096681e-03, -6.00746786e-03, -5.29675484e-02,\n",
              "        4.51899425e-04, -1.47258202e-02,  7.88145699e-03,  2.42944597e-03,\n",
              "        5.18796127e-03, -3.38477045e-02,  6.29763398e-03,  3.25319618e-02,\n",
              "        3.40576749e-04, -2.41799839e-02,  4.74564061e-02,  4.20046858e-02,\n",
              "       -2.42539719e-02,  2.10887734e-02,  6.11425824e-02,  3.75531008e-03,\n",
              "       -3.84243354e-02, -1.00177772e-01,  2.48963814e-02, -4.38998789e-02,\n",
              "        3.58192883e-02,  2.62883548e-02, -2.16874368e-02,  6.50990987e-04],\n",
              "      dtype=float32)>"
            ]
          },
          "metadata": {},
          "execution_count": 30
        }
      ]
    },
    {
      "cell_type": "code",
      "source": [
        "# building the model\n",
        "from tensorflow.keras import layers\n",
        "\n",
        "inputs = layers.Input(shape=[] , dtype=\"string\")  # shape is null as given in USE doc\n",
        "pretrain_embedding = USE_embed(inputs)\n",
        "x = layers.Dense(128 , activation=\"relu\")(pretrain_embedding)   # more layers can be added\n",
        "outputs = layers.Dense(num_classes , activation=\"softmax\")(x)\n",
        "\n",
        "model_2 = tf.keras.Model(inputs,outputs,name=\"USE_feature_extractor\")\n",
        "\n",
        "model_2.compile(loss = \"categorical_crossentropy\",\n",
        "                optimizer=tf.keras.optimizers.Adam(),\n",
        "                metrics=[\"accuracy\"])"
      ],
      "metadata": {
        "id": "7H-eaUO-PhfF"
      },
      "execution_count": null,
      "outputs": []
    },
    {
      "cell_type": "code",
      "source": [
        "model_2.summary()"
      ],
      "metadata": {
        "colab": {
          "base_uri": "https://localhost:8080/"
        },
        "id": "0HCeSSBuQvVD",
        "outputId": "12c111cb-4420-458e-f474-df14fcf355ba"
      },
      "execution_count": null,
      "outputs": [
        {
          "output_type": "stream",
          "name": "stdout",
          "text": [
            "Model: \"USE_feature_extractor\"\n",
            "_________________________________________________________________\n",
            " Layer (type)                Output Shape              Param #   \n",
            "=================================================================\n",
            " input_2 (InputLayer)        [(None,)]                 0         \n",
            "                                                                 \n",
            " universal_sentence_encoder   (None, 512)              256797824 \n",
            " (KerasLayer)                                                    \n",
            "                                                                 \n",
            " dense_1 (Dense)             (None, 128)               65664     \n",
            "                                                                 \n",
            " dense_2 (Dense)             (None, 5)                 645       \n",
            "                                                                 \n",
            "=================================================================\n",
            "Total params: 256,864,133\n",
            "Trainable params: 66,309\n",
            "Non-trainable params: 256,797,824\n",
            "_________________________________________________________________\n"
          ]
        }
      ]
    },
    {
      "cell_type": "code",
      "source": [
        "model2_hist = model_2.fit(train_dataset,\n",
        "                          steps_per_epoch = int(0.1*len(train_dataset)),  # runs only on 10 percent data\n",
        "                          epochs=5,\n",
        "                          validation_data=valid_dataset,\n",
        "                          validation_steps= int(0.1*len(valid_dataset)))"
      ],
      "metadata": {
        "colab": {
          "base_uri": "https://localhost:8080/"
        },
        "id": "dioBE7fxQwTJ",
        "outputId": "089fa77b-9e39-403a-a9f4-3be1174391e4"
      },
      "execution_count": null,
      "outputs": [
        {
          "output_type": "stream",
          "name": "stdout",
          "text": [
            "Epoch 1/5\n",
            "562/562 [==============================] - 11s 15ms/step - loss: 0.9152 - accuracy: 0.6509 - val_loss: 0.7960 - val_accuracy: 0.6902\n",
            "Epoch 2/5\n",
            "562/562 [==============================] - 8s 14ms/step - loss: 0.7672 - accuracy: 0.7033 - val_loss: 0.7528 - val_accuracy: 0.7061\n",
            "Epoch 3/5\n",
            "562/562 [==============================] - 7s 12ms/step - loss: 0.7503 - accuracy: 0.7140 - val_loss: 0.7375 - val_accuracy: 0.7141\n",
            "Epoch 4/5\n",
            "562/562 [==============================] - 8s 15ms/step - loss: 0.7170 - accuracy: 0.7261 - val_loss: 0.7098 - val_accuracy: 0.7314\n",
            "Epoch 5/5\n",
            "562/562 [==============================] - 8s 15ms/step - loss: 0.7235 - accuracy: 0.7233 - val_loss: 0.6900 - val_accuracy: 0.7337\n"
          ]
        }
      ]
    },
    {
      "cell_type": "code",
      "source": [
        "model_2.evaluate(valid_dataset)"
      ],
      "metadata": {
        "colab": {
          "base_uri": "https://localhost:8080/"
        },
        "id": "K__TqTSWRHGm",
        "outputId": "a57e91dc-9b99-4afb-9bcb-298aa7d52a69"
      },
      "execution_count": null,
      "outputs": [
        {
          "output_type": "stream",
          "name": "stdout",
          "text": [
            "945/945 [==============================] - 12s 13ms/step - loss: 0.6963 - accuracy: 0.7360\n"
          ]
        },
        {
          "output_type": "execute_result",
          "data": {
            "text/plain": [
              "[0.6962890028953552, 0.7360320687294006]"
            ]
          },
          "metadata": {},
          "execution_count": 53
        }
      ]
    },
    {
      "cell_type": "code",
      "source": [
        "model_2_pred_probs = model_2.predict(valid_dataset)\n",
        "model_2_preds = tf.argmax(model_2_pred_probs , axis=1)\n"
      ],
      "metadata": {
        "colab": {
          "base_uri": "https://localhost:8080/"
        },
        "id": "Lbfr1tUmRbEM",
        "outputId": "a9c1114b-8d14-48ad-929c-c1c69115b76f"
      },
      "execution_count": null,
      "outputs": [
        {
          "output_type": "stream",
          "name": "stdout",
          "text": [
            "945/945 [==============================] - 11s 12ms/step\n"
          ]
        }
      ]
    },
    {
      "cell_type": "code",
      "source": [
        "model_2_res = calculate_results(val_labels_encoded,\n",
        "                                model_2_preds)\n",
        "model_2_res"
      ],
      "metadata": {
        "colab": {
          "base_uri": "https://localhost:8080/"
        },
        "id": "PeO00cUKRjNh",
        "outputId": "42eb5bc9-10cf-4d8f-c279-0e636226bc2b"
      },
      "execution_count": null,
      "outputs": [
        {
          "output_type": "execute_result",
          "data": {
            "text/plain": [
              "{'accuracy': 73.60320402489077,\n",
              " 'precision': 0.7316990755462717,\n",
              " 'recall': 0.7360320402489077,\n",
              " 'f1': 0.7301407900142479}"
            ]
          },
          "metadata": {},
          "execution_count": 55
        }
      ]
    },
    {
      "cell_type": "markdown",
      "source": [
        "# Character Embedding\n",
        "Conv1D with character embedding\n",
        ">Similar but for the use of char-level embedding rather than token-level\n"
      ],
      "metadata": {
        "id": "l8t1nq_CSA31"
      }
    },
    {
      "cell_type": "markdown",
      "source": [
        "**Creating Character level tokenizer**"
      ],
      "metadata": {
        "id": "qH7Zdf8SSmWb"
      }
    },
    {
      "cell_type": "code",
      "source": [
        "# Making function to split sentences into chars\n",
        "\n",
        "def split_chars(text):\n",
        "  return \" \".join(list(text))"
      ],
      "metadata": {
        "id": "qkb2_gsYRuqc"
      },
      "execution_count": null,
      "outputs": []
    },
    {
      "cell_type": "code",
      "source": [
        "split_chars(train_sentences[0])"
      ],
      "metadata": {
        "colab": {
          "base_uri": "https://localhost:8080/",
          "height": 140
        },
        "id": "O0AuMdjzS4Vm",
        "outputId": "d3706337-4178-4703-deb0-a4d5b49846f2"
      },
      "execution_count": null,
      "outputs": [
        {
          "output_type": "execute_result",
          "data": {
            "text/plain": [
              "'t o   i n v e s t i g a t e   t h e   e f f i c a c y   o f   @   w e e k s   o f   d a i l y   l o w - d o s e   o r a l   p r e d n i s o l o n e   i n   i m p r o v i n g   p a i n   ,   m o b i l i t y   ,   a n d   s y s t e m i c   l o w - g r a d e   i n f l a m m a t i o n   i n   t h e   s h o r t   t e r m   a n d   w h e t h e r   t h e   e f f e c t   w o u l d   b e   s u s t a i n e d   a t   @   w e e k s   i n   o l d e r   a d u l t s   w i t h   m o d e r a t e   t o   s e v e r e   k n e e   o s t e o a r t h r i t i s   (   o a   )   .'"
            ],
            "application/vnd.google.colaboratory.intrinsic+json": {
              "type": "string"
            }
          },
          "metadata": {},
          "execution_count": 33
        }
      ]
    },
    {
      "cell_type": "code",
      "source": [
        "# splitting sequence level data\n",
        "\n",
        "train_chars = [split_chars(sent) for sent in train_sentences]\n",
        "val_chars = [split_chars(sent) for sent in val_sentences]\n",
        "test_chars = [split_chars(sent) for sent in test_sentences]\n",
        "\n",
        "train_chars[1]"
      ],
      "metadata": {
        "colab": {
          "base_uri": "https://localhost:8080/",
          "height": 88
        },
        "id": "lSlf6kGuTFGB",
        "outputId": "1bc0400a-3d4c-4c0a-f3c8-6d92d86ff35e"
      },
      "execution_count": null,
      "outputs": [
        {
          "output_type": "execute_result",
          "data": {
            "text/plain": [
              "'a   t o t a l   o f   @   p a t i e n t s   w i t h   p r i m a r y   k n e e   o a   w e r e   r a n d o m i z e d   @ : @   ;   @   r e c e i v e d   @   m g / d a y   o f   p r e d n i s o l o n e   a n d   @   r e c e i v e d   p l a c e b o   f o r   @   w e e k s   .'"
            ],
            "application/vnd.google.colaboratory.intrinsic+json": {
              "type": "string"
            }
          },
          "metadata": {},
          "execution_count": 34
        }
      ]
    },
    {
      "cell_type": "code",
      "source": [
        "# getting avg character length\n",
        "\n",
        "char_lens = [len(sent) for sent in train_sentences]\n",
        "mean_char_lens = np.mean(char_lens)\n",
        "mean_char_lens"
      ],
      "metadata": {
        "colab": {
          "base_uri": "https://localhost:8080/"
        },
        "id": "lDyBO0qKTbNT",
        "outputId": "e7e26865-6bdf-43c9-c40a-e2ef5cec6823"
      },
      "execution_count": null,
      "outputs": [
        {
          "output_type": "execute_result",
          "data": {
            "text/plain": [
              "149.3662574983337"
            ]
          },
          "metadata": {},
          "execution_count": 35
        }
      ]
    },
    {
      "cell_type": "code",
      "source": [
        "# checking the distribution\n",
        "\n",
        "plt.hist(char_lens , bins=7)"
      ],
      "metadata": {
        "colab": {
          "base_uri": "https://localhost:8080/",
          "height": 517
        },
        "id": "wlNriOmrTwBC",
        "outputId": "8fd09f86-c13b-4abd-d473-52bde1c9a2b1"
      },
      "execution_count": null,
      "outputs": [
        {
          "output_type": "execute_result",
          "data": {
            "text/plain": [
              "(array([1.41175e+05, 3.71110e+04, 1.60000e+03, 1.27000e+02, 2.10000e+01,\n",
              "        5.00000e+00, 1.00000e+00]),\n",
              " array([1.00000000e+00, 1.98857143e+02, 3.96714286e+02, 5.94571429e+02,\n",
              "        7.92428571e+02, 9.90285714e+02, 1.18814286e+03, 1.38600000e+03]),\n",
              " <BarContainer object of 7 artists>)"
            ]
          },
          "metadata": {},
          "execution_count": 62
        },
        {
          "output_type": "display_data",
          "data": {
            "text/plain": [
              "<Figure size 640x480 with 1 Axes>"
            ],
            "image/png": "[encoded data removed]"
          },
          "metadata": {}
        }
      ]
    },
    {
      "cell_type": "code",
      "source": [
        "output_seq_char_len = int(np.percentile(char_lens , 95))\n",
        "output_seq_char_len"
      ],
      "metadata": {
        "colab": {
          "base_uri": "https://localhost:8080/"
        },
        "id": "Cf442rSrT61l",
        "outputId": "1ec05941-1ad3-4406-daca-aa581d562e13"
      },
      "execution_count": null,
      "outputs": [
        {
          "output_type": "execute_result",
          "data": {
            "text/plain": [
              "290"
            ]
          },
          "metadata": {},
          "execution_count": 36
        }
      ]
    },
    {
      "cell_type": "code",
      "source": [
        "# getting all keyboard characters to get max number of char used\n",
        "import string\n",
        "alphabet = string.ascii_lowercase + string.digits + string.punctuation\n",
        "alphabet\n"
      ],
      "metadata": {
        "colab": {
          "base_uri": "https://localhost:8080/",
          "height": 36
        },
        "id": "3iPZXfjpUGFj",
        "outputId": "82709b71-8548-4ae3-8004-4130f2b42399"
      },
      "execution_count": null,
      "outputs": [
        {
          "output_type": "execute_result",
          "data": {
            "text/plain": [
              "'abcdefghijklmnopqrstuvwxyz0123456789!\"#$%&\\'()*+,-./:;<=>?@[\\\\]^_`{|}~'"
            ],
            "application/vnd.google.colaboratory.intrinsic+json": {
              "type": "string"
            }
          },
          "metadata": {},
          "execution_count": 37
        }
      ]
    },
    {
      "cell_type": "markdown",
      "source": [
        "**Creating char-level vectorizer**"
      ],
      "metadata": {
        "id": "N_SiGRqQVFSi"
      }
    },
    {
      "cell_type": "code",
      "source": [
        "NUM_CHAR_TOKENS = len(alphabet) + 2 # adding 2 for space and OOV token(out of vocab)\n",
        "char_vectorizer  = TextVectorization(max_tokens = NUM_CHAR_TOKENS,\n",
        "                                     output_sequence_length = output_seq_char_len,\n",
        "                                     name=\"char_Vectorizer\")"
      ],
      "metadata": {
        "id": "OBy1pOHoU8pU"
      },
      "execution_count": null,
      "outputs": []
    },
    {
      "cell_type": "code",
      "source": [
        "char_vectorizer.adapt(train_chars)"
      ],
      "metadata": {
        "id": "IKHetQ9WVmcP"
      },
      "execution_count": null,
      "outputs": []
    },
    {
      "cell_type": "code",
      "source": [
        "char_vocab = char_vectorizer.get_vocabulary()\n",
        "len(char_vocab)"
      ],
      "metadata": {
        "colab": {
          "base_uri": "https://localhost:8080/"
        },
        "id": "zmflZjiXVzXc",
        "outputId": "ba943cdd-0f89-4860-e5de-9673d3789a60"
      },
      "execution_count": null,
      "outputs": [
        {
          "output_type": "execute_result",
          "data": {
            "text/plain": [
              "28"
            ]
          },
          "metadata": {},
          "execution_count": 40
        }
      ]
    },
    {
      "cell_type": "code",
      "source": [
        "print(\"Most 5 common chars\" , char_vocab[:5])\n",
        "print(\"Least 5\" , char_vocab[-5:])"
      ],
      "metadata": {
        "colab": {
          "base_uri": "https://localhost:8080/"
        },
        "id": "j61Na0yEV8fc",
        "outputId": "220a9aed-e59f-4f35-a210-0133a6097c21"
      },
      "execution_count": null,
      "outputs": [
        {
          "output_type": "stream",
          "name": "stdout",
          "text": [
            "Most 5 common chars ['', '[UNK]', 'e', 't', 'i']\n",
            "Least 5 ['k', 'x', 'z', 'q', 'j']\n"
          ]
        }
      ]
    },
    {
      "cell_type": "code",
      "source": [
        "rand_vect_char = char_vectorizer([train_chars[69]])\n",
        "rand_vect_char"
      ],
      "metadata": {
        "colab": {
          "base_uri": "https://localhost:8080/"
        },
        "id": "VQlnA7beWECW",
        "outputId": "b15d5bee-7503-4f7a-81cf-6834238d067d"
      },
      "execution_count": null,
      "outputs": [
        {
          "output_type": "execute_result",
          "data": {
            "text/plain": [
              "<tf.Tensor: shape=(1, 290), dtype=int64, numpy=\n",
              "array([[17,  7,  8,  3, 19,  3, 20,  7, 14,  8,  5, 11,  3,  4, 11,  2,\n",
              "         9, 17,  8,  7, 15,  3, 13,  2, 14,  2, 10,  4,  5,  3,  8,  4,\n",
              "        11,  8,  2,  9,  2,  5,  8, 11, 13,  4,  6,  7, 17, 17,  4, 11,\n",
              "         2,  9,  2,  3,  3,  4,  6, 18,  9,  6,  2,  3, 20,  7,  8, 23,\n",
              "         7, 17,  3, 13,  2,  5, 15,  2,  8,  4, 11,  5,  6,  5, 11,  5,\n",
              "        10,  2, 15, 19,  7, 17, 14,  2, 10,  4,  5,  3,  8,  4, 11,  9,\n",
              "        20,  2,  8,  2,  8,  5,  6, 10,  7, 15, 12, 19,  5,  9,  9,  4,\n",
              "        18,  6,  2, 10,  3,  7,  7, 17, 18,  8,  7, 16, 14,  9,  0,  0,\n",
              "         0,  0,  0,  0,  0,  0,  0,  0,  0,  0,  0,  0,  0,  0,  0,  0,\n",
              "         0,  0,  0,  0,  0,  0,  0,  0,  0,  0,  0,  0,  0,  0,  0,  0,\n",
              "         0,  0,  0,  0,  0,  0,  0,  0,  0,  0,  0,  0,  0,  0,  0,  0,\n",
              "         0,  0,  0,  0,  0,  0,  0,  0,  0,  0,  0,  0,  0,  0,  0,  0,\n",
              "         0,  0,  0,  0,  0,  0,  0,  0,  0,  0,  0,  0,  0,  0,  0,  0,\n",
              "         0,  0,  0,  0,  0,  0,  0,  0,  0,  0,  0,  0,  0,  0,  0,  0,\n",
              "         0,  0,  0,  0,  0,  0,  0,  0,  0,  0,  0,  0,  0,  0,  0,  0,\n",
              "         0,  0,  0,  0,  0,  0,  0,  0,  0,  0,  0,  0,  0,  0,  0,  0,\n",
              "         0,  0,  0,  0,  0,  0,  0,  0,  0,  0,  0,  0,  0,  0,  0,  0,\n",
              "         0,  0,  0,  0,  0,  0,  0,  0,  0,  0,  0,  0,  0,  0,  0,  0,\n",
              "         0,  0]])>"
            ]
          },
          "metadata": {},
          "execution_count": 43
        }
      ]
    },
    {
      "cell_type": "markdown",
      "source": [
        "*CREATING THE CHAR-LEVEL embedding layer*"
      ],
      "metadata": {
        "id": "M-uHJVn0Wsar"
      }
    },
    {
      "cell_type": "code",
      "source": [
        "from tensorflow.keras.layers import Embedding\n",
        "\n",
        "char_embed = Embedding(input_dim = len(char_vocab),\n",
        "                       output_dim = 25,   # given in paper\n",
        "                       mask_zero=True,\n",
        "                       name=\"Char_embed\")\n",
        "char_embed"
      ],
      "metadata": {
        "colab": {
          "base_uri": "https://localhost:8080/"
        },
        "id": "dG9Pgx2bWdp3",
        "outputId": "2fd0dd9b-d962-4858-b247-02a9954fb361"
      },
      "execution_count": null,
      "outputs": [
        {
          "output_type": "execute_result",
          "data": {
            "text/plain": [
              "<keras.layers.core.embedding.Embedding at 0x7f6101ab2bf0>"
            ]
          },
          "metadata": {},
          "execution_count": 41
        }
      ]
    },
    {
      "cell_type": "code",
      "source": [
        "rand_char_emb = char_embed(rand_vect_char)\n",
        "rand_char_emb"
      ],
      "metadata": {
        "colab": {
          "base_uri": "https://localhost:8080/"
        },
        "id": "o9xnISrUXagx",
        "outputId": "45f99081-3ef3-4f4c-8556-5b8835b75890"
      },
      "execution_count": null,
      "outputs": [
        {
          "output_type": "execute_result",
          "data": {
            "text/plain": [
              "<tf.Tensor: shape=(1, 290, 25), dtype=float32, numpy=\n",
              "array([[[-0.02956644,  0.02758009, -0.03273835, ...,  0.00192919,\n",
              "          0.01400113, -0.04721702],\n",
              "        [-0.01370498, -0.01101298,  0.01001031, ...,  0.01981342,\n",
              "          0.00447967,  0.04063064],\n",
              "        [ 0.03633206, -0.04903979, -0.01180802, ..., -0.00879902,\n",
              "          0.02797344, -0.01315396],\n",
              "        ...,\n",
              "        [ 0.01524309,  0.00592313,  0.00242864, ..., -0.04893206,\n",
              "          0.02659884, -0.03038951],\n",
              "        [ 0.01524309,  0.00592313,  0.00242864, ..., -0.04893206,\n",
              "          0.02659884, -0.03038951],\n",
              "        [ 0.01524309,  0.00592313,  0.00242864, ..., -0.04893206,\n",
              "          0.02659884, -0.03038951]]], dtype=float32)>"
            ]
          },
          "metadata": {},
          "execution_count": 45
        }
      ]
    },
    {
      "cell_type": "markdown",
      "source": [
        "# Conv1D with char-embedding"
      ],
      "metadata": {
        "id": "wyMqdytMX7_f"
      }
    },
    {
      "cell_type": "code",
      "source": [
        "from tensorflow.keras import layers\n",
        "import tensorflow as tf\n",
        "\n",
        "inputs = layers.Input(shape=(1,) , dtype=\"string\")\n",
        "char_vectors = char_vectorizer(inputs)\n",
        "char_embeddings = char_embed(char_vectors)\n",
        "x = layers.Conv1D(64 , kernel_size = 5, padding=\"same\" , activation=\"relu\")(char_embeddings)\n",
        "x = layers.GlobalMaxPool1D()(x)\n",
        "outputs = layers.Dense(num_classes , activation = \"softmax\")(x)\n",
        "model_3 = tf.keras.Model(inputs , outputs , name = \"Conv1d_char\")\n",
        "\n",
        "model_3.compile(loss = \"categorical_crossentropy\",\n",
        "                optimizer = tf.keras.optimizers.Adam() ,\n",
        "                metrics=[\"accuracy\"])"
      ],
      "metadata": {
        "id": "FXD1bvA1Xkt0"
      },
      "execution_count": null,
      "outputs": []
    },
    {
      "cell_type": "code",
      "source": [
        "model_3.summary()"
      ],
      "metadata": {
        "colab": {
          "base_uri": "https://localhost:8080/"
        },
        "id": "-RnP3RPDY5OF",
        "outputId": "1c7c7b2e-96ad-4e83-c080-4e9036fa2bfe"
      },
      "execution_count": null,
      "outputs": [
        {
          "output_type": "stream",
          "name": "stdout",
          "text": [
            "Model: \"Conv1d_char\"\n",
            "_________________________________________________________________\n",
            " Layer (type)                Output Shape              Param #   \n",
            "=================================================================\n",
            " input_10 (InputLayer)       [(None, 1)]               0         \n",
            "                                                                 \n",
            " char_Vectorizer (TextVector  (None, 290)              0         \n",
            " ization)                                                        \n",
            "                                                                 \n",
            " Char_embed (Embedding)      (None, 290, 25)           700       \n",
            "                                                                 \n",
            " conv1d_7 (Conv1D)           (None, 290, 64)           8064      \n",
            "                                                                 \n",
            " global_max_pooling1d (Globa  (None, 64)               0         \n",
            " lMaxPooling1D)                                                  \n",
            "                                                                 \n",
            " dense_10 (Dense)            (None, 5)                 325       \n",
            "                                                                 \n",
            "=================================================================\n",
            "Total params: 9,089\n",
            "Trainable params: 9,089\n",
            "Non-trainable params: 0\n",
            "_________________________________________________________________\n"
          ]
        }
      ]
    },
    {
      "cell_type": "code",
      "source": [
        "import tensorflow as tf\n",
        "\n",
        "\n",
        "train_dataset_char = tf.data.Dataset.from_tensor_slices((train_chars,train_labels_one_hot)).batch(32).prefetch(tf.data.AUTOTUNE)\n",
        "valid_dataset_char = tf.data.Dataset.from_tensor_slices((val_chars,val_labels_one_hot)).batch(32).prefetch(tf.data.AUTOTUNE)\n",
        "test_dataset_char = tf.data.Dataset.from_tensor_slices((test_chars,test_labels_one_hot)).batch(32).prefetch(tf.data.AUTOTUNE)\n",
        "\n",
        "train_dataset_char"
      ],
      "metadata": {
        "colab": {
          "base_uri": "https://localhost:8080/"
        },
        "id": "N5T1rZSFdLgK",
        "outputId": "c5427807-2a5f-408d-c421-6e4e8bdb9949"
      },
      "execution_count": null,
      "outputs": [
        {
          "output_type": "execute_result",
          "data": {
            "text/plain": [
              "<_PrefetchDataset element_spec=(TensorSpec(shape=(None,), dtype=tf.string, name=None), TensorSpec(shape=(None, 5), dtype=tf.float64, name=None))>"
            ]
          },
          "metadata": {},
          "execution_count": 43
        }
      ]
    },
    {
      "cell_type": "code",
      "source": [
        "model3_hist = model_3.fit(train_dataset_char,\n",
        "                          steps_per_epoch = int(0.1*len(train_dataset_char)),\n",
        "                          epochs=5,\n",
        "                          validation_data = valid_dataset_char,\n",
        "                          validation_steps=int(0.1*len(valid_dataset_char)))"
      ],
      "metadata": {
        "colab": {
          "base_uri": "https://localhost:8080/"
        },
        "id": "h_iZDtYXZSFH",
        "outputId": "96c60b16-bc52-473b-85ee-77fa275e8eeb"
      },
      "execution_count": null,
      "outputs": [
        {
          "output_type": "stream",
          "name": "stdout",
          "text": [
            "Epoch 1/5\n",
            "562/562 [==============================] - 5s 6ms/step - loss: 1.2778 - accuracy: 0.4811 - val_loss: 1.0540 - val_accuracy: 0.5798\n",
            "Epoch 2/5\n",
            "562/562 [==============================] - 3s 5ms/step - loss: 1.0082 - accuracy: 0.5925 - val_loss: 0.9616 - val_accuracy: 0.6197\n",
            "Epoch 3/5\n",
            "562/562 [==============================] - 4s 7ms/step - loss: 0.9381 - accuracy: 0.6311 - val_loss: 0.8895 - val_accuracy: 0.6489\n",
            "Epoch 4/5\n",
            "562/562 [==============================] - 3s 6ms/step - loss: 0.8849 - accuracy: 0.6552 - val_loss: 0.8633 - val_accuracy: 0.6513\n",
            "Epoch 5/5\n",
            "562/562 [==============================] - 3s 5ms/step - loss: 0.8699 - accuracy: 0.6625 - val_loss: 0.8441 - val_accuracy: 0.6719\n"
          ]
        }
      ]
    },
    {
      "cell_type": "code",
      "source": [
        "model_3_pred_probs = model_3.predict(valid_dataset_char)\n",
        "model_3_preds = tf.argmax(model_3_pred_probs , axis=1)"
      ],
      "metadata": {
        "colab": {
          "base_uri": "https://localhost:8080/"
        },
        "id": "0DH1JjdabGRb",
        "outputId": "ee1e03f0-b093-4688-903c-a9986d769f99"
      },
      "execution_count": null,
      "outputs": [
        {
          "output_type": "stream",
          "name": "stdout",
          "text": [
            "945/945 [==============================] - 3s 3ms/step\n"
          ]
        }
      ]
    },
    {
      "cell_type": "code",
      "source": [
        "model_3_res = calculate_results(val_labels_encoded,\n",
        "                                model_3_preds)\n",
        "model_3_res"
      ],
      "metadata": {
        "colab": {
          "base_uri": "https://localhost:8080/"
        },
        "id": "R8iD9P1ieG9h",
        "outputId": "68145a49-73c9-4048-a8da-e20ee66f5a06"
      },
      "execution_count": null,
      "outputs": [
        {
          "output_type": "execute_result",
          "data": {
            "text/plain": [
              "{'accuracy': 66.82113067655237,\n",
              " 'precision': 0.67353800857584,\n",
              " 'recall': 0.6682113067655236,\n",
              " 'f1': 0.663791218621792}"
            ]
          },
          "metadata": {},
          "execution_count": 112
        }
      ]
    },
    {
      "cell_type": "markdown",
      "source": [
        "# MultiInput model\n",
        "token embedding + char embedding (hybrid)\\\n",
        ">Architecture of model taken from paper with a few changes"
      ],
      "metadata": {
        "id": "A_snLPtgWIMl"
      }
    },
    {
      "cell_type": "code",
      "source": [
        "# Setup token inputs\n",
        "from tensorflow.keras import layers\n",
        "\n",
        "token_inputs = layers.Input(shape = [] , dtype = tf.string , name =\"token_input\")\n",
        "token_embeddings = USE_embed(token_inputs)\n",
        "\n",
        "token_outputs = layers.Dense(128 , activation=\"relu\")(token_embeddings)\n",
        "token_model = tf.keras.Model(inputs = token_inputs,\n",
        "                             outputs = token_outputs)\n",
        "\n",
        "\n",
        "# Setup char inputs/model\n",
        "char_inputs = layers.Input(shape = (1,) , dtype = \"string\" , name=\"char_input\")\n",
        "char_vect = char_vectorizer(char_inputs)\n",
        "char_embeddings = char_embed(char_vect)\n",
        "\n",
        "char_bi_lstm = layers.Bidirectional(layers.LSTM(24))(char_embeddings) # Bi-LSTM; shown in fig in paper\n",
        "char_model = tf.keras.Model(inputs=char_inputs,\n",
        "                            outputs=char_bi_lstm)   # 24 will get doubled as its bidirectional\n",
        "\n",
        "\n",
        "# Concatenate the models - hybrid token embedding\n",
        "\n",
        "token_char_concat = layers.Concatenate(name=\"token_char_hybrid\")([token_model.output,\n",
        "                                                                  char_model.output])\n",
        "# passing the outputs and combining them\n",
        "\n",
        "\n",
        "# Create outputs layers ; adding in dropout layer- which does regularization and avoids overfitting; check doc\n",
        "\n",
        "combined_dropout = layers.Dropout(0.5)(token_char_concat)   # rate =0.5 given in paper\n",
        "combined_dense = layers.Dense(128 , activation=\"relu\")(combined_dropout)\n",
        "\n",
        "final_dropout = layers.Dropout(0.5)(combined_dense)\n",
        "output_layer = layers.Dense(num_classes , activation=\"softmax\")(final_dropout)\n",
        "\n",
        "\n",
        "\n",
        "# Construct model using token and char inputs\n",
        "model_4 = tf.keras.Model(inputs=[token_model.input,char_model.input],\n",
        "                         outputs = output_layer,\n",
        "                         name=\"model_4_hybrid\")\n",
        "\n"
      ],
      "metadata": {
        "id": "r8yDmAYoeOqg"
      },
      "execution_count": null,
      "outputs": []
    },
    {
      "cell_type": "code",
      "source": [
        "model_4.summary()"
      ],
      "metadata": {
        "colab": {
          "base_uri": "https://localhost:8080/"
        },
        "id": "QnyXBe7vXkH2",
        "outputId": "728a41b1-d57f-4905-adb8-e0e0ab8081e6"
      },
      "execution_count": null,
      "outputs": [
        {
          "output_type": "stream",
          "name": "stdout",
          "text": [
            "Model: \"model_4_hybrid\"\n",
            "__________________________________________________________________________________________________\n",
            " Layer (type)                   Output Shape         Param #     Connected to                     \n",
            "==================================================================================================\n",
            " char_input (InputLayer)        [(None, 1)]          0           []                               \n",
            "                                                                                                  \n",
            " token_input (InputLayer)       [(None,)]            0           []                               \n",
            "                                                                                                  \n",
            " char_Vectorizer (TextVectoriza  (None, 290)         0           ['char_input[0][0]']             \n",
            " tion)                                                                                            \n",
            "                                                                                                  \n",
            " universal_sentence_encoder (Ke  (None, 512)         256797824   ['token_input[0][0]']            \n",
            " rasLayer)                                                                                        \n",
            "                                                                                                  \n",
            " Char_embed (Embedding)         (None, 290, 25)      700         ['char_Vectorizer[2][0]']        \n",
            "                                                                                                  \n",
            " dense_8 (Dense)                (None, 128)          65664       ['universal_sentence_encoder[3][0\n",
            "                                                                 ]']                              \n",
            "                                                                                                  \n",
            " bidirectional_1 (Bidirectional  (None, 48)          9600        ['Char_embed[2][0]']             \n",
            " )                                                                                                \n",
            "                                                                                                  \n",
            " token_char_hybrid (Concatenate  (None, 176)         0           ['dense_8[0][0]',                \n",
            " )                                                                'bidirectional_1[0][0]']        \n",
            "                                                                                                  \n",
            " dropout_2 (Dropout)            (None, 176)          0           ['token_char_hybrid[0][0]']      \n",
            "                                                                                                  \n",
            " dense_9 (Dense)                (None, 128)          22656       ['dropout_2[0][0]']              \n",
            "                                                                                                  \n",
            " dropout_3 (Dropout)            (None, 128)          0           ['dense_9[0][0]']                \n",
            "                                                                                                  \n",
            " dense_10 (Dense)               (None, 5)            645         ['dropout_3[0][0]']              \n",
            "                                                                                                  \n",
            "==================================================================================================\n",
            "Total params: 256,897,089\n",
            "Trainable params: 99,265\n",
            "Non-trainable params: 256,797,824\n",
            "__________________________________________________________________________________________________\n"
          ]
        }
      ]
    },
    {
      "cell_type": "code",
      "source": [
        "# Plotting hybrid model\n",
        "\n",
        "from keras.utils import plot_model\n",
        "\n",
        "plot_model(model_4 , show_shapes=True)"
      ],
      "metadata": {
        "colab": {
          "base_uri": "https://localhost:8080/",
          "height": 797
        },
        "id": "P0ctGaUoaX84",
        "outputId": "0256d20b-aada-48e6-b0ab-6a500f586ebb"
      },
      "execution_count": null,
      "outputs": [
        {
          "output_type": "execute_result",
          "data": {
            "image/png": "[encoded data removed]",
            "text/plain": [
              "<IPython.core.display.Image object>"
            ]
          },
          "metadata": {},
          "execution_count": 53
        }
      ]
    },
    {
      "cell_type": "code",
      "source": [
        "# compiling the model\n",
        "\n",
        "model_4.compile(loss = \"categorical_crossentropy\",\n",
        "                optimizer = tf.keras.optimizers.Adam(),\n",
        "                metrics = [\"accuracy\"])"
      ],
      "metadata": {
        "id": "1qkxsEira5Jr"
      },
      "execution_count": null,
      "outputs": []
    },
    {
      "cell_type": "markdown",
      "source": [
        "**Creating fast loading multi-input dataset**"
      ],
      "metadata": {
        "id": "0h3WccpScKtu"
      }
    },
    {
      "cell_type": "code",
      "source": [
        "train_token_char_data = tf.data.Dataset.from_tensor_slices((train_sentences,train_chars))   # passing tuple as input\n",
        "train_token_char_labels = tf.data.Dataset.from_tensor_slices(train_labels_one_hot)\n",
        "\n",
        "train_token_char_dataset = tf.data.Dataset.zip((train_token_char_data , train_token_char_labels ))\n",
        "\n",
        "# prefetching\n",
        "\n",
        "train_token_char_dataset = train_token_char_dataset.batch(32).prefetch(tf.data.AUTOTUNE)\n",
        "\n"
      ],
      "metadata": {
        "id": "pUtG3NQTcGrc"
      },
      "execution_count": null,
      "outputs": []
    },
    {
      "cell_type": "code",
      "source": [
        "val_token_char_data = tf.data.Dataset.from_tensor_slices((val_sentences,val_chars))   # passing tuple as input\n",
        "val_token_char_labels = tf.data.Dataset.from_tensor_slices(val_labels_one_hot)\n",
        "\n",
        "val_token_char_dataset = tf.data.Dataset.zip((val_token_char_data , val_token_char_labels ))\n",
        "\n",
        "# prefetching\n",
        "\n",
        "val_token_char_dataset = val_token_char_dataset.batch(32).prefetch(tf.data.AUTOTUNE)\n",
        "\n"
      ],
      "metadata": {
        "id": "zgGIuzcqeLXc"
      },
      "execution_count": null,
      "outputs": []
    },
    {
      "cell_type": "code",
      "source": [
        "train_token_char_dataset"
      ],
      "metadata": {
        "colab": {
          "base_uri": "https://localhost:8080/"
        },
        "id": "f-LKB42dedq2",
        "outputId": "346880a4-0837-4873-b05e-8cf0031f025f"
      },
      "execution_count": null,
      "outputs": [
        {
          "output_type": "execute_result",
          "data": {
            "text/plain": [
              "<_PrefetchDataset element_spec=((TensorSpec(shape=(None,), dtype=tf.string, name=None), TensorSpec(shape=(None,), dtype=tf.string, name=None)), TensorSpec(shape=(None, 5), dtype=tf.float64, name=None))>"
            ]
          },
          "metadata": {},
          "execution_count": 47
        }
      ]
    },
    {
      "cell_type": "markdown",
      "source": [
        "**NOTE:- ORDER OF INPUT DEFINED IN MODEL ARCHITECTURE SHOULD BE SAME**"
      ],
      "metadata": {
        "id": "EmFIFAwYepAL"
      }
    },
    {
      "cell_type": "code",
      "source": [
        "# fitting the model\n",
        "\n",
        "model4_hist = model_4.fit(train_token_char_dataset,\n",
        "                          steps_per_epoch=int(0.1*len(train_token_char_dataset)),\n",
        "                          epochs=5,\n",
        "                          validation_data = val_token_char_dataset,\n",
        "                          validation_steps = int(0.1*len(val_token_char_dataset)))"
      ],
      "metadata": {
        "colab": {
          "base_uri": "https://localhost:8080/"
        },
        "id": "XVWLiVLkejhm",
        "outputId": "99e76e24-1a4a-4e0d-a222-4310abec6d35"
      },
      "execution_count": null,
      "outputs": [
        {
          "output_type": "stream",
          "name": "stdout",
          "text": [
            "Epoch 1/5\n",
            "562/562 [==============================] - 45s 57ms/step - loss: 0.9827 - accuracy: 0.6102 - val_loss: 0.7982 - val_accuracy: 0.6918\n",
            "Epoch 2/5\n",
            "562/562 [==============================] - 28s 50ms/step - loss: 0.8036 - accuracy: 0.6877 - val_loss: 0.7247 - val_accuracy: 0.7241\n",
            "Epoch 3/5\n",
            "562/562 [==============================] - 29s 52ms/step - loss: 0.7825 - accuracy: 0.6997 - val_loss: 0.6933 - val_accuracy: 0.7367\n",
            "Epoch 4/5\n",
            "562/562 [==============================] - 34s 60ms/step - loss: 0.7478 - accuracy: 0.7194 - val_loss: 0.6683 - val_accuracy: 0.7507\n",
            "Epoch 5/5\n",
            "562/562 [==============================] - 31s 56ms/step - loss: 0.7518 - accuracy: 0.7157 - val_loss: 0.6596 - val_accuracy: 0.7500\n"
          ]
        }
      ]
    },
    {
      "cell_type": "markdown",
      "source": [
        "***make test dataset for this for evaluating***"
      ],
      "metadata": {
        "id": "1tVApC-9gRkz"
      }
    },
    {
      "cell_type": "code",
      "source": [
        "model_4.evaluate(val_token_char_dataset)"
      ],
      "metadata": {
        "colab": {
          "base_uri": "https://localhost:8080/"
        },
        "id": "6bU77HcbfZel",
        "outputId": "da87d299-157c-4380-c6bd-f6b2c672efb7"
      },
      "execution_count": null,
      "outputs": [
        {
          "output_type": "stream",
          "name": "stdout",
          "text": [
            "945/945 [==============================] - 29s 31ms/step - loss: 0.6672 - accuracy: 0.7450\n"
          ]
        },
        {
          "output_type": "execute_result",
          "data": {
            "text/plain": [
              "[0.6671732664108276, 0.7450351119041443]"
            ]
          },
          "metadata": {},
          "execution_count": 59
        }
      ]
    },
    {
      "cell_type": "code",
      "source": [
        "model_4_pred_probs = model_4.predict(val_token_char_dataset)\n",
        "model_4_preds = tf.argmax(model_4_pred_probs , axis=1)\n",
        "model_4_preds"
      ],
      "metadata": {
        "colab": {
          "base_uri": "https://localhost:8080/"
        },
        "id": "fb3n0ZtegPSy",
        "outputId": "bd24238d-4cc1-4af9-d182-226986c31a7b"
      },
      "execution_count": null,
      "outputs": [
        {
          "output_type": "stream",
          "name": "stdout",
          "text": [
            "945/945 [==============================] - 38s 36ms/step\n"
          ]
        },
        {
          "output_type": "execute_result",
          "data": {
            "text/plain": [
              "<tf.Tensor: shape=(30212,), dtype=int64, numpy=array([0, 1, 3, ..., 4, 4, 1])>"
            ]
          },
          "metadata": {},
          "execution_count": 60
        }
      ]
    },
    {
      "cell_type": "code",
      "source": [
        "model_4_res = calculate_results(val_labels_encoded,\n",
        "                                model_4_preds)\n",
        "model_4_res"
      ],
      "metadata": {
        "colab": {
          "base_uri": "https://localhost:8080/"
        },
        "id": "KlFFiFa6gp2s",
        "outputId": "6db3d47b-2c32-4726-c5fb-26d74e8efef6"
      },
      "execution_count": null,
      "outputs": [
        {
          "output_type": "execute_result",
          "data": {
            "text/plain": [
              "{'accuracy': 74.50350853965311,\n",
              " 'precision': 0.7420234238836386,\n",
              " 'recall': 0.7450350853965312,\n",
              " 'f1': 0.73951387395801}"
            ]
          },
          "metadata": {},
          "execution_count": 62
        }
      ]
    },
    {
      "cell_type": "markdown",
      "source": [
        "# Token + Char + POSITIONAL EMBEDDING Model"
      ],
      "metadata": {
        "id": "i1BBWUx3hj1R"
      }
    },
    {
      "cell_type": "code",
      "source": [
        "train_df.head()"
      ],
      "metadata": {
        "colab": {
          "base_uri": "https://localhost:8080/",
          "height": 285
        },
        "id": "Y79KHTVHg0bD",
        "outputId": "033373a0-fde5-4e24-dc71-58d11d7baf6e"
      },
      "execution_count": null,
      "outputs": [
        {
          "output_type": "execute_result",
          "data": {
            "text/plain": [
              "      target                                               text  line_number  \\\n",
              "0  OBJECTIVE  to investigate the efficacy of @ weeks of dail...            0   \n",
              "1    METHODS  a total of @ patients with primary knee oa wer...            1   \n",
              "2    METHODS  outcome measures included pain reduction and i...            2   \n",
              "3    METHODS  pain was assessed using the visual analog pain...            3   \n",
              "4    METHODS  secondary outcome measures included the wester...            4   \n",
              "\n",
              "   total lines  \n",
              "0           11  \n",
              "1           11  \n",
              "2           11  \n",
              "3           11  \n",
              "4           11  "
            ],
            "text/html": [
              "\n",
              "  <div id=\"df-1ed41336-99bf-4b44-8a34-39a2d718ef6c\">\n",
              "    <div class=\"colab-df-container\">\n",
              "      <div>\n",
              "<style scoped>\n",
              "    .dataframe tbody tr th:only-of-type {\n",
              "        vertical-align: middle;\n",
              "    }\n",
              "\n",
              "    .dataframe tbody tr th {\n",
              "        vertical-align: top;\n",
              "    }\n",
              "\n",
              "    .dataframe thead th {\n",
              "        text-align: right;\n",
              "    }\n",
              "</style>\n",
              "<table border=\"1\" class=\"dataframe\">\n",
              "  <thead>\n",
              "    <tr style=\"text-align: right;\">\n",
              "      <th></th>\n",
              "      <th>target</th>\n",
              "      <th>text</th>\n",
              "      <th>line_number</th>\n",
              "      <th>total lines</th>\n",
              "    </tr>\n",
              "  </thead>\n",
              "  <tbody>\n",
              "    <tr>\n",
              "      <th>0</th>\n",
              "      <td>OBJECTIVE</td>\n",
              "      <td>to investigate the efficacy of @ weeks of dail...</td>\n",
              "      <td>0</td>\n",
              "      <td>11</td>\n",
              "    </tr>\n",
              "    <tr>\n",
              "      <th>1</th>\n",
              "      <td>METHODS</td>\n",
              "      <td>a total of @ patients with primary knee oa wer...</td>\n",
              "      <td>1</td>\n",
              "      <td>11</td>\n",
              "    </tr>\n",
              "    <tr>\n",
              "      <th>2</th>\n",
              "      <td>METHODS</td>\n",
              "      <td>outcome measures included pain reduction and i...</td>\n",
              "      <td>2</td>\n",
              "      <td>11</td>\n",
              "    </tr>\n",
              "    <tr>\n",
              "      <th>3</th>\n",
              "      <td>METHODS</td>\n",
              "      <td>pain was assessed using the visual analog pain...</td>\n",
              "      <td>3</td>\n",
              "      <td>11</td>\n",
              "    </tr>\n",
              "    <tr>\n",
              "      <th>4</th>\n",
              "      <td>METHODS</td>\n",
              "      <td>secondary outcome measures included the wester...</td>\n",
              "      <td>4</td>\n",
              "      <td>11</td>\n",
              "    </tr>\n",
              "  </tbody>\n",
              "</table>\n",
              "</div>\n",
              "      <button class=\"colab-df-convert\" onclick=\"convertToInteractive('df-1ed41336-99bf-4b44-8a34-39a2d718ef6c')\"\n",
              "              title=\"Convert this dataframe to an interactive table.\"\n",
              "              style=\"display:none;\">\n",
              "        \n",
              "  <svg xmlns=\"http://www.w3.org/2000/svg\" height=\"24px\"viewBox=\"0 0 24 24\"\n",
              "       width=\"24px\">\n",
              "    <path d=\"M0 0h24v24H0V0z\" fill=\"none\"/>\n",
              "    <path d=\"M18.56 5.44l.94 2.06.94-2.06 2.06-.94-2.06-.94-.94-2.06-.94 2.06-2.06.94zm-11 1L8.5 8.5l.94-2.06 2.06-.94-2.06-.94L8.5 2.5l-.94 2.06-2.06.94zm10 10l.94 2.06.94-2.06 2.06-.94-2.06-.94-.94-2.06-.94 2.06-2.06.94z\"/><path d=\"M17.41 7.96l-1.37-1.37c-.4-.4-.92-.59-1.43-.59-.52 0-1.04.2-1.43.59L10.3 9.45l-7.72 7.72c-.78.78-.78 2.05 0 2.83L4 21.41c.39.39.9.59 1.41.59.51 0 1.02-.2 1.41-.59l7.78-7.78 2.81-2.81c.8-.78.8-2.07 0-2.86zM5.41 20L4 18.59l7.72-7.72 1.47 1.35L5.41 20z\"/>\n",
              "  </svg>\n",
              "      </button>\n",
              "      \n",
              "  <style>\n",
              "    .colab-df-container {\n",
              "      display:flex;\n",
              "      flex-wrap:wrap;\n",
              "      gap: 12px;\n",
              "    }\n",
              "\n",
              "    .colab-df-convert {\n",
              "      background-color: #E8F0FE;\n",
              "      border: none;\n",
              "      border-radius: 50%;\n",
              "      cursor: pointer;\n",
              "      display: none;\n",
              "      fill: #1967D2;\n",
              "      height: 32px;\n",
              "      padding: 0 0 0 0;\n",
              "      width: 32px;\n",
              "    }\n",
              "\n",
              "    .colab-df-convert:hover {\n",
              "      background-color: #E2EBFA;\n",
              "      box-shadow: 0px 1px 2px rgba(60, 64, 67, 0.3), 0px 1px 3px 1px rgba(60, 64, 67, 0.15);\n",
              "      fill: #174EA6;\n",
              "    }\n",
              "\n",
              "    [theme=dark] .colab-df-convert {\n",
              "      background-color: #3B4455;\n",
              "      fill: #D2E3FC;\n",
              "    }\n",
              "\n",
              "    [theme=dark] .colab-df-convert:hover {\n",
              "      background-color: #434B5C;\n",
              "      box-shadow: 0px 1px 3px 1px rgba(0, 0, 0, 0.15);\n",
              "      filter: drop-shadow(0px 1px 2px rgba(0, 0, 0, 0.3));\n",
              "      fill: #FFFFFF;\n",
              "    }\n",
              "  </style>\n",
              "\n",
              "      <script>\n",
              "        const buttonEl =\n",
              "          document.querySelector('#df-1ed41336-99bf-4b44-8a34-39a2d718ef6c button.colab-df-convert');\n",
              "        buttonEl.style.display =\n",
              "          google.colab.kernel.accessAllowed ? 'block' : 'none';\n",
              "\n",
              "        async function convertToInteractive(key) {\n",
              "          const element = document.querySelector('#df-1ed41336-99bf-4b44-8a34-39a2d718ef6c');\n",
              "          const dataTable =\n",
              "            await google.colab.kernel.invokeFunction('convertToInteractive',\n",
              "                                                     [key], {});\n",
              "          if (!dataTable) return;\n",
              "\n",
              "          const docLinkHtml = 'Like what you see? Visit the ' +\n",
              "            '<a target=\"_blank\" href=https://colab.research.google.com/notebooks/data_table.ipynb>data table notebook</a>'\n",
              "            + ' to learn more about interactive tables.';\n",
              "          element.innerHTML = '';\n",
              "          dataTable['output_type'] = 'display_data';\n",
              "          await google.colab.output.renderOutput(dataTable, element);\n",
              "          const docLink = document.createElement('div');\n",
              "          docLink.innerHTML = docLinkHtml;\n",
              "          element.appendChild(docLink);\n",
              "        }\n",
              "      </script>\n",
              "    </div>\n",
              "  </div>\n",
              "  "
            ]
          },
          "metadata": {},
          "execution_count": 48
        }
      ]
    },
    {
      "cell_type": "markdown",
      "source": [
        ">Note: Any engineered features used to train a model need to be available at test time. In our case , line numbers and total lines are available"
      ],
      "metadata": {
        "id": "5iR03nYQj6ED"
      }
    },
    {
      "cell_type": "markdown",
      "source": [
        "**Creating POSITIONAL EMBEDDING**"
      ],
      "metadata": {
        "id": "AOD7aKsikbKy"
      }
    },
    {
      "cell_type": "code",
      "source": [
        "train_df[\"line_number\"].value_counts()"
      ],
      "metadata": {
        "colab": {
          "base_uri": "https://localhost:8080/"
        },
        "id": "k2sOpJnajM9k",
        "outputId": "fa9812f9-4285-42ee-ea3d-3f08d804600a"
      },
      "execution_count": null,
      "outputs": [
        {
          "output_type": "execute_result",
          "data": {
            "text/plain": [
              "0     15000\n",
              "1     15000\n",
              "2     15000\n",
              "3     15000\n",
              "4     14992\n",
              "5     14949\n",
              "6     14758\n",
              "7     14279\n",
              "8     13346\n",
              "9     11981\n",
              "10    10041\n",
              "11     7892\n",
              "12     5853\n",
              "13     4152\n",
              "14     2835\n",
              "15     1861\n",
              "16     1188\n",
              "17      751\n",
              "18      462\n",
              "19      286\n",
              "20      162\n",
              "21      101\n",
              "22       66\n",
              "23       33\n",
              "24       22\n",
              "25       14\n",
              "26        7\n",
              "27        4\n",
              "28        3\n",
              "29        1\n",
              "30        1\n",
              "Name: line_number, dtype: int64"
            ]
          },
          "metadata": {},
          "execution_count": 49
        }
      ]
    },
    {
      "cell_type": "code",
      "source": [
        "# Using tensorflow to create one hot encoded tensors for line numbers\n",
        "\n",
        "train_line_nos_one_hot = tf.one_hot(train_df[\"line_number\"].to_numpy() , depth=15)  #till 15 we get max data\n",
        "val_line_nos_one_hot = tf.one_hot(val_df[\"line_number\"].to_numpy() , depth=15)\n",
        "test_line_nos_one_hot = tf.one_hot(test_df[\"line_number\"].to_numpy() , depth=15)\n",
        "\n",
        "train_line_nos_one_hot[:10] , train_line_nos_one_hot.shape"
      ],
      "metadata": {
        "colab": {
          "base_uri": "https://localhost:8080/"
        },
        "id": "tnFy6V00kUUG",
        "outputId": "d60a5eb7-c1c9-49d0-bd8c-983a1e566eb1"
      },
      "execution_count": null,
      "outputs": [
        {
          "output_type": "execute_result",
          "data": {
            "text/plain": [
              "(<tf.Tensor: shape=(10, 15), dtype=float32, numpy=\n",
              " array([[1., 0., 0., 0., 0., 0., 0., 0., 0., 0., 0., 0., 0., 0., 0.],\n",
              "        [0., 1., 0., 0., 0., 0., 0., 0., 0., 0., 0., 0., 0., 0., 0.],\n",
              "        [0., 0., 1., 0., 0., 0., 0., 0., 0., 0., 0., 0., 0., 0., 0.],\n",
              "        [0., 0., 0., 1., 0., 0., 0., 0., 0., 0., 0., 0., 0., 0., 0.],\n",
              "        [0., 0., 0., 0., 1., 0., 0., 0., 0., 0., 0., 0., 0., 0., 0.],\n",
              "        [0., 0., 0., 0., 0., 1., 0., 0., 0., 0., 0., 0., 0., 0., 0.],\n",
              "        [0., 0., 0., 0., 0., 0., 1., 0., 0., 0., 0., 0., 0., 0., 0.],\n",
              "        [0., 0., 0., 0., 0., 0., 0., 1., 0., 0., 0., 0., 0., 0., 0.],\n",
              "        [0., 0., 0., 0., 0., 0., 0., 0., 1., 0., 0., 0., 0., 0., 0.],\n",
              "        [0., 0., 0., 0., 0., 0., 0., 0., 0., 1., 0., 0., 0., 0., 0.]],\n",
              "       dtype=float32)>,\n",
              " TensorShape([180040, 15]))"
            ]
          },
          "metadata": {},
          "execution_count": 50
        }
      ]
    },
    {
      "cell_type": "code",
      "source": [
        "train_df[\"total lines\"].value_counts()"
      ],
      "metadata": {
        "colab": {
          "base_uri": "https://localhost:8080/"
        },
        "id": "Z-oZg7dfk98_",
        "outputId": "017d73ff-5f63-4d1f-933f-7f565aee7dad"
      },
      "execution_count": null,
      "outputs": [
        {
          "output_type": "execute_result",
          "data": {
            "text/plain": [
              "11    24468\n",
              "10    23639\n",
              "12    22113\n",
              "9     19400\n",
              "13    18438\n",
              "14    14610\n",
              "8     12285\n",
              "15    10768\n",
              "7      7464\n",
              "16     7429\n",
              "17     5202\n",
              "6      3353\n",
              "18     3344\n",
              "19     2480\n",
              "20     1281\n",
              "5      1146\n",
              "21      770\n",
              "22      759\n",
              "23      264\n",
              "4       215\n",
              "24      200\n",
              "25      182\n",
              "26       81\n",
              "28       58\n",
              "3        32\n",
              "30       31\n",
              "27       28\n",
              "Name: total lines, dtype: int64"
            ]
          },
          "metadata": {},
          "execution_count": 70
        }
      ]
    },
    {
      "cell_type": "code",
      "source": [
        "# selecting 20 cz covers majority\n",
        "\n",
        "train_total_lines_one_hot = tf.one_hot(train_df[\"total lines\"].to_numpy() , depth=20)\n",
        "val_total_lines_one_hot = tf.one_hot(val_df[\"total lines\"].to_numpy() , depth=20)\n",
        "test_total_lines_one_hot = tf.one_hot(test_df[\"total lines\"].to_numpy() , depth=20)\n",
        "\n",
        "train_total_lines_one_hot.shape"
      ],
      "metadata": {
        "colab": {
          "base_uri": "https://localhost:8080/"
        },
        "id": "bvLREFXdmEc-",
        "outputId": "37a5cad3-9acc-48ae-ce5c-5002c7a063df"
      },
      "execution_count": null,
      "outputs": [
        {
          "output_type": "execute_result",
          "data": {
            "text/plain": [
              "TensorShape([180040, 20])"
            ]
          },
          "metadata": {},
          "execution_count": 51
        }
      ]
    },
    {
      "cell_type": "markdown",
      "source": [
        "**Building the tribid embedding model**"
      ],
      "metadata": {
        "id": "yLrcv6TwERbT"
      }
    },
    {
      "cell_type": "code",
      "source": [
        "from tensorflow.keras import layers\n",
        "\n",
        "# Creating a token-level inputs\n",
        "\n",
        "token_inp = layers.Input(shape=[] , dtype=tf.string , name=\"Token-level inputs\")\n",
        "token_emb = USE_embed(token_inp)\n",
        "token_out = layers.Dense(128 , activation=\"relu\")(token_emb)\n",
        "token_model = tf.keras.Model(inputs=token_inp,\n",
        "                             outputs=token_out)\n",
        "\n",
        "\n",
        "# Creating char-level inputs\n",
        "\n",
        "char_inp = layers.Input(shape=(1,) , dtype=\"string\" , name=\"char-level inputs\")\n",
        "char_vc = char_vectorizer(char_inp)\n",
        "char_emb = char_embed(char_vc)\n",
        "char_bi_lstm = layers.Bidirectional(layers.LSTM(24))(char_emb)\n",
        "char_model = tf.keras.Model(char_inp,\n",
        "                            char_bi_lstm)\n",
        "\n",
        "# Creating positional-level inputs - line nums\n",
        "\n",
        "ln_inp = layers.Input(shape=(15,) , dtype=tf.float32 , name=\"line_num_inputs\")\n",
        "x = layers.Dense(32 , activation=\"relu\")(ln_inp)\n",
        "ln_model = tf.keras.Model(ln_inp,\n",
        "                          x)\n",
        "\n",
        "# for total lines\n",
        "\n",
        "tl_inp = layers.Input(shape=(20,) , dtype=tf.float32 , name=\"total_lines_inputs\")\n",
        "y = layers.Dense(32 , activation=\"relu\")(tl_inp)\n",
        "tl_model = tf.keras.Model(inputs=tl_inp,\n",
        "                          outputs=y)\n",
        "\n",
        "# Combining token and char to make hybrid embeddings\n",
        "\n",
        "combined_embeddings = layers.Concatenate(name=\"char_token_hybrid_emb\")([token_model.output,\n",
        "                                                                        char_model.output])\n",
        "\n",
        "# passing to dropout layer\n",
        "\n",
        "z = layers.Dense(256 , activation=\"relu\")(combined_embeddings)\n",
        "z = layers.Dropout(0.5)(z)\n",
        "\n",
        "# Combine positional embedding with hybrid - tribrid mix\n",
        "\n",
        "tribrid_embeddings = layers.Concatenate(name=\"char_token_positional_emb\")([ln_model.output,\n",
        "                                                                          tl_model.output,\n",
        "                                                                          z])\n",
        "\n",
        "# Creating output layer\n",
        "\n",
        "output_layer = layers.Dense(num_classes,activation=\"softmax\",\n",
        "                            name=\"output_layer\")(tribrid_embeddings)\n",
        "\n",
        "# Creating the model\n",
        "\n",
        "model_5 = tf.keras.Model(inputs=[ln_model.input,\n",
        "                                 tl_model.input,\n",
        "                                 token_model.input,\n",
        "                                 char_model.input],\n",
        "                         outputs=output_layer,\n",
        "                         name=\"model_5_tribrid\")\n",
        "\n"
      ],
      "metadata": {
        "id": "zKa_eqYLme78"
      },
      "execution_count": null,
      "outputs": []
    },
    {
      "cell_type": "code",
      "source": [
        "model_5.summary()"
      ],
      "metadata": {
        "colab": {
          "base_uri": "https://localhost:8080/"
        },
        "id": "iZ2xPhucIe6M",
        "outputId": "feb18529-1abe-4440-e57f-56ced476e97b"
      },
      "execution_count": null,
      "outputs": [
        {
          "output_type": "stream",
          "name": "stdout",
          "text": [
            "Model: \"model_5_tribrid\"\n",
            "__________________________________________________________________________________________________\n",
            " Layer (type)                   Output Shape         Param #     Connected to                     \n",
            "==================================================================================================\n",
            " char-level inputs (InputLayer)  [(None, 1)]         0           []                               \n",
            "                                                                                                  \n",
            " Token-level inputs (InputLayer  [(None,)]           0           []                               \n",
            " )                                                                                                \n",
            "                                                                                                  \n",
            " char_Vectorizer (TextVectoriza  (None, 290)         0           ['char-level inputs[0][0]']      \n",
            " tion)                                                                                            \n",
            "                                                                                                  \n",
            " universal_sentence_encoder (Ke  (None, 512)         256797824   ['Token-level inputs[0][0]']     \n",
            " rasLayer)                                                                                        \n",
            "                                                                                                  \n",
            " Char_embed (Embedding)         (None, 290, 25)      700         ['char_Vectorizer[3][0]']        \n",
            "                                                                                                  \n",
            " dense_14 (Dense)               (None, 128)          65664       ['universal_sentence_encoder[6][0\n",
            "                                                                 ]']                              \n",
            "                                                                                                  \n",
            " bidirectional_2 (Bidirectional  (None, 48)          9600        ['Char_embed[3][0]']             \n",
            " )                                                                                                \n",
            "                                                                                                  \n",
            " char_token_hybrid_emb (Concate  (None, 176)         0           ['dense_14[0][0]',               \n",
            " nate)                                                            'bidirectional_2[0][0]']        \n",
            "                                                                                                  \n",
            " line_num_inputs (InputLayer)   [(None, 15)]         0           []                               \n",
            "                                                                                                  \n",
            " total_lines_inputs (InputLayer  [(None, 20)]        0           []                               \n",
            " )                                                                                                \n",
            "                                                                                                  \n",
            " dense_17 (Dense)               (None, 256)          45312       ['char_token_hybrid_emb[0][0]']  \n",
            "                                                                                                  \n",
            " dense_15 (Dense)               (None, 32)           512         ['line_num_inputs[0][0]']        \n",
            "                                                                                                  \n",
            " dense_16 (Dense)               (None, 32)           672         ['total_lines_inputs[0][0]']     \n",
            "                                                                                                  \n",
            " dropout_3 (Dropout)            (None, 256)          0           ['dense_17[0][0]']               \n",
            "                                                                                                  \n",
            " char_token_positional_emb (Con  (None, 320)         0           ['dense_15[0][0]',               \n",
            " catenate)                                                        'dense_16[0][0]',               \n",
            "                                                                  'dropout_3[0][0]']              \n",
            "                                                                                                  \n",
            " output_layer (Dense)           (None, 5)            1605        ['char_token_positional_emb[0][0]\n",
            "                                                                 ']                               \n",
            "                                                                                                  \n",
            "==================================================================================================\n",
            "Total params: 256,921,889\n",
            "Trainable params: 124,065\n",
            "Non-trainable params: 256,797,824\n",
            "__________________________________________________________________________________________________\n"
          ]
        }
      ]
    },
    {
      "cell_type": "code",
      "source": [
        "from keras.utils import plot_model\n",
        "\n",
        "plot_model(model_5 , show_shapes=True)"
      ],
      "metadata": {
        "colab": {
          "base_uri": "https://localhost:8080/",
          "height": 513
        },
        "id": "vBKgnMEZI0o1",
        "outputId": "e13c1206-9413-401e-9cb6-9da59918df9b"
      },
      "execution_count": null,
      "outputs": [
        {
          "output_type": "execute_result",
          "data": {
            "image/png": "[encoded data removed]",
            "text/plain": [
              "<IPython.core.display.Image object>"
            ]
          },
          "metadata": {},
          "execution_count": 60
        }
      ]
    },
    {
      "cell_type": "code",
      "source": [
        "model_5.compile(loss = tf.losses.CategoricalCrossentropy(label_smoothing=0.2),  # helps to prevent overfitting\n",
        "                optimizer = tf.keras.optimizers.Adam(),\n",
        "                metrics = [\"accuracy\"])\n"
      ],
      "metadata": {
        "id": "3exvzWCpI7mo"
      },
      "execution_count": null,
      "outputs": []
    },
    {
      "cell_type": "markdown",
      "source": [
        "*CREATING A FAST LOADING DATASET*"
      ],
      "metadata": {
        "id": "rw_bsh89KozH"
      }
    },
    {
      "cell_type": "code",
      "source": [
        "# Creating datasets with all four kinds of data\n",
        "\n",
        "train_tribrid_data = tf.data.Dataset.from_tensor_slices((train_line_nos_one_hot,\n",
        "                                                         train_total_lines_one_hot,\n",
        "                                                         train_sentences,\n",
        "                                                         train_chars))\n",
        "train_tribrid_labels = tf.data.Dataset.from_tensor_slices(train_labels_one_hot)\n",
        "train_tribrid_dataset = tf.data.Dataset.zip((train_tribrid_data,\n",
        "                                          train_tribrid_labels))\n",
        "train_tribrid_dataset = train_tribrid_dataset.batch(32).prefetch(tf.data.AUTOTUNE)"
      ],
      "metadata": {
        "id": "1I8leaHNKGiL"
      },
      "execution_count": null,
      "outputs": []
    },
    {
      "cell_type": "code",
      "source": [
        "val_tribrid_data = tf.data.Dataset.from_tensor_slices((val_line_nos_one_hot,\n",
        "                                                         val_total_lines_one_hot,\n",
        "                                                         val_sentences,\n",
        "                                                         val_chars))\n",
        "val_tribrid_labels = tf.data.Dataset.from_tensor_slices(val_labels_one_hot)\n",
        "val_tribrid_dataset = tf.data.Dataset.zip((val_tribrid_data,\n",
        "                                          val_tribrid_labels))\n",
        "val_tribrid_dataset = val_tribrid_dataset.batch(32).prefetch(tf.data.AUTOTUNE)"
      ],
      "metadata": {
        "id": "h3em2KKEMPdy"
      },
      "execution_count": null,
      "outputs": []
    },
    {
      "cell_type": "code",
      "source": [
        "train_tribrid_dataset"
      ],
      "metadata": {
        "colab": {
          "base_uri": "https://localhost:8080/"
        },
        "id": "NKZFxfUWMoLH",
        "outputId": "dfa8b0ea-c928-471e-c2d4-5c6d073e0f1c"
      },
      "execution_count": null,
      "outputs": [
        {
          "output_type": "execute_result",
          "data": {
            "text/plain": [
              "<_PrefetchDataset element_spec=((TensorSpec(shape=(None, 15), dtype=tf.float32, name=None), TensorSpec(shape=(None, 20), dtype=tf.float32, name=None), TensorSpec(shape=(None,), dtype=tf.string, name=None), TensorSpec(shape=(None,), dtype=tf.string, name=None)), TensorSpec(shape=(None, 5), dtype=tf.float64, name=None))>"
            ]
          },
          "metadata": {},
          "execution_count": 67
        }
      ]
    },
    {
      "cell_type": "code",
      "source": [
        "model5_hist = model_5.fit(train_tribrid_dataset,\n",
        "                          steps_per_epoch = int(0.1*len(train_tribrid_dataset)),\n",
        "                          epochs=5,\n",
        "                          validation_data=val_tribrid_dataset,\n",
        "                          validation_steps= int(0.1*len(val_tribrid_dataset)))"
      ],
      "metadata": {
        "colab": {
          "base_uri": "https://localhost:8080/"
        },
        "id": "waADV5ziMuFb",
        "outputId": "c591d7d4-1fa4-41b8-fa34-7ad4bbffc288"
      },
      "execution_count": null,
      "outputs": [
        {
          "output_type": "stream",
          "name": "stdout",
          "text": [
            "Epoch 1/5\n",
            "562/562 [==============================] - 50s 65ms/step - loss: 1.0984 - accuracy: 0.7195 - val_loss: 0.9843 - val_accuracy: 0.8039\n",
            "Epoch 2/5\n",
            "562/562 [==============================] - 35s 63ms/step - loss: 0.9697 - accuracy: 0.8167 - val_loss: 0.9524 - val_accuracy: 0.8191\n",
            "Epoch 3/5\n",
            "562/562 [==============================] - 28s 51ms/step - loss: 0.9511 - accuracy: 0.8222 - val_loss: 0.9416 - val_accuracy: 0.8248\n",
            "Epoch 4/5\n",
            "562/562 [==============================] - 29s 52ms/step - loss: 0.9408 - accuracy: 0.8358 - val_loss: 0.9339 - val_accuracy: 0.8295\n",
            "Epoch 5/5\n",
            "562/562 [==============================] - 28s 49ms/step - loss: 0.9389 - accuracy: 0.8362 - val_loss: 0.9241 - val_accuracy: 0.8404\n"
          ]
        }
      ]
    },
    {
      "cell_type": "code",
      "source": [
        "model_5_pred_probs = model_5.predict(val_tribrid_dataset)\n",
        "model_5_preds = tf.argmax(model_5_pred_probs , axis=1)\n",
        "model_5_res = calculate_results(val_labels_encoded,\n",
        "                                model_5_preds)\n",
        "model_5_res"
      ],
      "metadata": {
        "colab": {
          "base_uri": "https://localhost:8080/"
        },
        "id": "RCOEkHCfNOvF",
        "outputId": "bdef14e2-b4b5-44e4-f973-f0186553bda3"
      },
      "execution_count": null,
      "outputs": [
        {
          "output_type": "stream",
          "name": "stdout",
          "text": [
            "945/945 [==============================] - 23s 21ms/step\n"
          ]
        },
        {
          "output_type": "execute_result",
          "data": {
            "text/plain": [
              "{'accuracy': 84.13213292731365,\n",
              " 'precision': 0.8439560529086155,\n",
              " 'recall': 0.8413213292731365,\n",
              " 'f1': 0.8378033776133683}"
            ]
          },
          "metadata": {},
          "execution_count": 69
        }
      ]
    }
  ]
}